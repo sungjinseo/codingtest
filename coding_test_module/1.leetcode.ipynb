{
 "cells": [
  {
   "cell_type": "code",
   "execution_count": 1,
   "id": "d6f65223",
   "metadata": {},
   "outputs": [],
   "source": [
    "from codingtest import leetcode"
   ]
  },
  {
   "cell_type": "code",
   "execution_count": 2,
   "id": "68f9a512",
   "metadata": {},
   "outputs": [],
   "source": [
    "ct = leetcode(['leetid', 'leetpass'])"
   ]
  },
  {
   "cell_type": "code",
   "execution_count": 3,
   "id": "ee1e892f",
   "metadata": {
    "scrolled": true
   },
   "outputs": [
    {
     "name": "stdout",
     "output_type": "stream",
     "text": [
      "2. Add Two Numbers\n",
      "add-two-numbers\n",
      "3. Longest Substring Without Repeating Characters\n",
      "longest-substring-without-repeating-characters\n",
      "5. Longest Palindromic Substring\n",
      "longest-palindromic-substring\n",
      "6. Zigzag Conversion\n",
      "zigzag-conversion\n",
      "7. Reverse Integer\n",
      "reverse-integer\n"
     ]
    }
   ],
   "source": [
    "ct.문제리스트('MEDIUM', 5)"
   ]
  },
  {
   "cell_type": "code",
   "execution_count": 4,
   "id": "5588c85c",
   "metadata": {},
   "outputs": [
    {
     "name": "stdout",
     "output_type": "stream",
     "text": [
      "Two Sum\n",
      "Array, Hash Table, \n",
      "Given an array of integers nums and an integer target, return indices of the two numbers such that they add up to target.\n",
      "You may assume that each input would have exactly one solution, and you may not use the same element twice.\n",
      "You can return the answer in any order.\n",
      "\n",
      "Example 1:\n",
      "Input: nums = [2,7,11,15], target = 9\n",
      "Output: [0,1]\n",
      "Explanation: Because nums[0] + nums[1] == 9, we return [0, 1].\n",
      "\n",
      "Example 2:\n",
      "Input: nums = [3,2,4], target = 6\n",
      "Output: [1,2]\n",
      "\n",
      "Example 3:\n",
      "Input: nums = [3,3], target = 6\n",
      "Output: [0,1]\n",
      "Constraints:\n",
      "2 <= nums.length <= 104\n",
      "-109 <= nums[i] <= 109\n",
      "-109 <= target <= 109\n",
      "Only one valid answer exists.\n",
      "Follow-up:\n",
      "Can you come up with an algorithm that is less than\n",
      "O(n2)\n",
      "time complexity?\n"
     ]
    },
    {
     "data": {
      "application/javascript": [
       "(function (){\n",
       "    IPython.CodeCell.prototype._handle_set_next_input = function (payload) {\n",
       "        var data = {\n",
       "            cell: this,\n",
       "            text: payload.text,\n",
       "            replace: payload.replace,\n",
       "            clear_output: payload.clear_output,\n",
       "        execute: payload.execute\n",
       "        };\n",
       "        this.events.trigger('set_next_input.Notebook', data);\n",
       "    };\n",
       "\n",
       "    var that = IPython.notebook;\n",
       "    // Out with the old, in with the new\n",
       "    that.events.unbind(\"set_next_input\")\n",
       "    that.events.on('set_next_input.Notebook', function (event, data) {\n",
       "            if (data.replace) {\n",
       "                data.cell.set_text(data.text);\n",
       "                if (data.clear_output !== false) {\n",
       "                  // default (undefined) is true to preserve prior behavior\n",
       "                  data.cell.clear_output();\n",
       "                }\n",
       "            } else {\n",
       "                var index = that.find_cell_index(data.cell);\n",
       "                var new_cell = that.insert_cell_below('code',index);\n",
       "                new_cell.set_text(data.text);\n",
       "            }\n",
       "        \n",
       "        if (data.execute && data.execute === true) {\n",
       "        new_cell.execute();\n",
       "        } else {\n",
       "        that.dirty = true;\n",
       "        }\n",
       "    });\n",
       "})()"
      ],
      "text/plain": [
       "<IPython.core.display.Javascript object>"
      ]
     },
     "metadata": {},
     "output_type": "display_data"
    }
   ],
   "source": [
    "SELECT_PROBLEM = 'two-sum'\n",
    "ct.문제선택(SELECT_PROBLEM)"
   ]
  },
  {
   "cell_type": "code",
   "execution_count": 5,
   "id": "62bf02c9",
   "metadata": {},
   "outputs": [
    {
     "name": "stdout",
     "output_type": "stream",
     "text": [
      "Overwriting ./leetcode/two-sum.py\n"
     ]
    }
   ],
   "source": [
    "%%writefile ./leetcode/two-sum.py\n",
    "# 소스코드를 작성하는 공간입니다. 코딩을 하기 위해서는 writefile 라인을 주석처리해주세요\n",
    "class Solution:\n",
    "    def twoSum(self, nums: List[int], target: int) -> List[int]:\n",
    "        \n"
   ]
  },
  {
   "cell_type": "code",
   "execution_count": 6,
   "id": "458492d5",
   "metadata": {},
   "outputs": [],
   "source": [
    "ct.제출하기(SELECT_PROBLEM)\n",
    "ct.결과보기(SELECT_PROBLEM)"
   ]
  }
 ],
 "metadata": {
  "kernelspec": {
   "display_name": "Python 3 (ipykernel)",
   "language": "python",
   "name": "python3"
  },
  "language_info": {
   "codemirror_mode": {
    "name": "ipython",
    "version": 3
   },
   "file_extension": ".py",
   "mimetype": "text/x-python",
   "name": "python",
   "nbconvert_exporter": "python",
   "pygments_lexer": "ipython3",
   "version": "3.9.13"
  }
 },
 "nbformat": 4,
 "nbformat_minor": 5
}
