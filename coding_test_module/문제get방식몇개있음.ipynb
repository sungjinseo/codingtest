{
 "cells": [
  {
   "cell_type": "code",
   "execution_count": 144,
   "id": "f496e2db-5f5e-42fb-a31a-0282470a0818",
   "metadata": {},
   "outputs": [],
   "source": [
    "import time\n",
    "import requests\n",
    "import urllib.request\n",
    "import pyperclip\n",
    "from prettytable import PrettyTable\n",
    "\n",
    "from bs4 import BeautifulSoup as bs\n",
    "from IPython.display import Javascript, display\n",
    "from IPython.display import Image\n",
    "from IPython import display\n",
    "\n",
    "from selenium import webdriver\n",
    "from selenium.webdriver.common.action_chains import ActionChains\n",
    "from selenium.webdriver.chrome.options import Options\n",
    "from selenium.webdriver.common.by import By\n",
    "from selenium.webdriver.common.keys import Keys"
   ]
  },
  {
   "cell_type": "code",
   "execution_count": 2,
   "id": "b65b29b7-b037-467f-8f71-eb6554ed507b",
   "metadata": {},
   "outputs": [],
   "source": [
    "def clipboard_input(tag_name, user_input, driver):\n",
    "        temp_user_input = pyperclip.paste()  # 사용자 클립보드를 따로 저장\n",
    "        pyperclip.copy(user_input)\n",
    "        driver.find_element(By.NAME, tag_name).click()\n",
    "        ActionChains(driver).key_down(Keys.CONTROL).send_keys('v').key_up(Keys.CONTROL).perform()\n",
    "        pyperclip.copy(temp_user_input)  # 사용자 클립보드에 저장 된 내용을 다시 가져 옴\n",
    "        time.sleep(0.5)"
   ]
  },
  {
   "cell_type": "code",
   "execution_count": 161,
   "id": "cb3c3685",
   "metadata": {},
   "outputs": [],
   "source": [
    "def source_init(src):\n",
    "    with open('run_next_cell_patch.js') as f:\n",
    "        # Monkey patch Jupyter with\n",
    "        # set_next_input(run=True) functionality\n",
    "        display.display(Javascript(f.read()))\n",
    "\n",
    "    from IPython import get_ipython\n",
    "    ip = get_ipython()\n",
    "    ip.payload_manager.write_payload(\n",
    "            dict(\n",
    "                source='set_next_input',\n",
    "                text=src,\n",
    "                replace=False,\n",
    "                execute=True\n",
    "            )\n",
    "    )"
   ]
  },
  {
   "cell_type": "code",
   "execution_count": 4,
   "id": "b0edcf65-4d8a-44ae-880e-6f9a339738d3",
   "metadata": {},
   "outputs": [],
   "source": [
    "def get_session_from_site(driver):\n",
    "    headers = {\n",
    "            \"User-Agent\":\n",
    "                \"Mozilla/5.0 (Windows NT 6.3; WOW64) AppleWebKit/537.36 (KHTML, like Gecko) Chrome/44.0.2403.157 Safari/537.36\"\n",
    "        }\n",
    "    ss = requests.session()\n",
    "    ss.headers.update(headers)\n",
    "\n",
    "    for cookie in driver.get_cookies():\n",
    "        c = {cookie['name']: cookie['value']}\n",
    "        ss.cookies.update(c)\n",
    "    return ss"
   ]
  },
  {
   "cell_type": "code",
   "execution_count": 6,
   "id": "c00d27e4-efa0-4b09-8bd0-55961206a1d6",
   "metadata": {},
   "outputs": [],
   "source": [
    "def getProblemText(res_data, language):\n",
    "    print(res_data.json()['data']['question']['title'])\n",
    "    \n",
    "    for item in res_data.json()['data']['question']['topicTags']:\n",
    "        print(item['name'], end=', ')\n",
    "        \n",
    "    print('')\n",
    "    bs_html = bs(res_data.json()['data']['question']['content'], \"html.parser\")\n",
    "    for line in bs_html:\n",
    "        line_text = line.get_text().strip()\n",
    "        if line_text != '':\n",
    "            if 'Example' in line_text:\n",
    "                print('')\n",
    "            print(line_text)\n",
    "    \n",
    "    # making srouce code\n",
    "    src = '%%writefile '+ res_data.json()['data']['question']['titleSlug'] +'.py\\n'\n",
    "    src = src + '# 소스코드를 작성하는 공간입니다. 코딩을 하기 위해서는 writefile 라인을 주석처리해주세요\\n'\n",
    "    for item in res.json()['data']['question']['codeSnippets']:\n",
    "        if item['lang'] == language:\n",
    "            src = src + item['code']+'\\n'\n",
    "            #print(item['code'])\n",
    "    source_init(src)"
   ]
  },
  {
   "cell_type": "code",
   "execution_count": null,
   "id": "56dd0ec7-06df-4657-9350-a482ce2c2638",
   "metadata": {},
   "outputs": [],
   "source": [
    "#https://leetcode.com/problems/longest-substring-without-repeating-characters/\n",
    "#https://leetcode.com/problemset/algorithms/?page=7&difficulty=MEDIUM&status=NOT_STARTED"
   ]
  },
  {
   "cell_type": "code",
   "execution_count": null,
   "id": "0e2ad001",
   "metadata": {},
   "outputs": [],
   "source": [
    "def 문제리스트가져오기(호출주소, 세션):\n",
    "    res = 세션.get(호출주소)\n",
    "    return res"
   ]
  },
  {
   "cell_type": "code",
   "execution_count": 4,
   "id": "17ec04e0",
   "metadata": {},
   "outputs": [],
   "source": [
    "def 문제불러오기(문제번호):\n",
    "    #https://www.acmicpc.net/problem/14681"
   ]
  },
  {
   "cell_type": "code",
   "execution_count": 5,
   "id": "9b2cff5f-ebd5-4965-956e-d82b21730f67",
   "metadata": {
    "scrolled": true
   },
   "outputs": [
    {
     "name": "stderr",
     "output_type": "stream",
     "text": [
      "C:\\Users\\User\\AppData\\Local\\Temp\\ipykernel_10872\\1337954685.py:7: DeprecationWarning: executable_path has been deprecated, please pass in a Service object\n",
      "  driver = webdriver.Chrome('./chromedriver.exe', chrome_options=options)\n",
      "C:\\Users\\User\\AppData\\Local\\Temp\\ipykernel_10872\\1337954685.py:7: DeprecationWarning: use options instead of chrome_options\n",
      "  driver = webdriver.Chrome('./chromedriver.exe', chrome_options=options)\n"
     ]
    }
   ],
   "source": [
    "options = Options()\n",
    "options.add_argument('--no-sandbox')\n",
    "options.add_argument('--disable-dev-shm-usage')\n",
    "options.add_argument(\"--window-size=1,1\")\n",
    "options.add_argument(\"--window-position=500,500\")\n",
    "options.add_experimental_option('excludeSwitches', ['enable-logging'])\n",
    "driver = webdriver.Chrome('./chromedriver.exe', chrome_options=options)\n",
    "#driver.set_window_position(500, 100, windowHandle='current')\n",
    "driver.implicitly_wait(5)\n",
    "driver.get('https://www.acmicpc.net/login?next=/')\n",
    "time.sleep(0.5)\n",
    "clipboard_input('login_user_id', 'boj_id', driver)\n",
    "clipboard_input('login_password', 'boj_pass', driver)\n",
    "driver.find_element(By.ID,'submit_button').click()"
   ]
  },
  {
   "cell_type": "code",
   "execution_count": 52,
   "id": "810383b1",
   "metadata": {},
   "outputs": [],
   "source": [
    "boj_session = get_session_from_site(driver)"
   ]
  },
  {
   "cell_type": "code",
   "execution_count": null,
   "id": "f08933f5",
   "metadata": {},
   "outputs": [],
   "source": [
    "#https://solved.ac/problems/level/10 레벨단위로 가져오기\n",
    "# 전체문제 1depth\n",
    "#https://www.acmicpc.net/problemset/\n",
    "# 단계별 문제 2depth\n",
    "#https://www.acmicpc.net/step\n",
    "#https://www.acmicpc.net/step/8\n",
    "# 알고리즘 분류 2depth\n",
    "#https://www.acmicpc.net/problem/tags\n",
    "#https://www.acmicpc.net/problemset?sort=ac_desc&algo=100"
   ]
  },
  {
   "cell_type": "code",
   "execution_count": 147,
   "id": "03bc62b0",
   "metadata": {
    "scrolled": true
   },
   "outputs": [
    {
     "name": "stdout",
     "output_type": "stream",
     "text": [
      "+----------------------------------------------------------------------------------------------------------------------------------+\n",
      "|                                                          레벨별문제 10                                                           |\n",
      "+------------+-------------------+----------------------------+------------+--------------------------+----------------------------+\n",
      "| 문제번호_1 | 문제명_1          | 문제타입_1                 | 문제번호_2 | 문제명_2                 | 문제타입_2                 |\n",
      "+------------+-------------------+----------------------------+------------+--------------------------+----------------------------+\n",
      "| 1052       | 물병              | 비트마스킹, 그리디 알, 구  | 1074       | Z                        | 분할 정복, 재귀            |\n",
      "| 1080       | 행렬              | 그리디 알                  | 1105       | 팔                       | 그리디 알, 수학            |\n",
      "| 1149       | RGB거리           | 다이나믹                   | 1189       | 컴백홈                   | 백트래킹, 브루트포스, 그래 |\n",
      "| 1262       | 알파벳 다이아몬드 | 구현                       | 1263       | 시간 관리                | 그리디 알, 정렬            |\n",
      "| 1276       | PLATFORME         | 정렬                       | 1283       | 단축키 지정              | 구현, 문자열               |\n",
      "| 1286       | 부분 직사각형     | 조합론, 수학               | 1303       | 전쟁 - 전투              | 너비 우선, 깊이 우선, 그   |\n",
      "| 1309       | 동물원            | 다이나믹                   | 1325       | 효율적인 해킹            | 너비 우선, 깊이 우선, 그   |\n",
      "| 1342       | 행운의 문자열     | 브루트포스                 | 1389       | 케빈 베이컨의 6단계 법칙 | 너비 우선, 플로이드–, 그   |\n",
      "| 1393       | 음하철도 구구팔   | 브루트포스, 수학           | 1446       | 지름길                   | 데이크스트, 다이나믹 , 그  |\n",
      "| 1474       | 밑 줄             | 브루트포스, 그리디 알, 문  | 1495       | 기타리스트               | 다이나믹                   |\n",
      "| 1527       | 금민수의 개수     | 브루트포스                 | 1552       | 도미노                   | 백트래킹, 브루트포스, 순열 |\n",
      "| 1576       | DNA점수           | 그리디 알, 정렬            | 1629       | 곱셈                     | 분할 정복, 수학            |\n",
      "| 1660       | 캡틴 이다솜       | 다이나믹                   | 1679       | 숫자놀이                 | 너비 우선, 다이나믹 , 그   |\n",
      "| 1682       | 돌리기            | 너비 우선, 그래프 이, 그   | 1697       | 숨바꼭질                 | 너비 우선, 그래프 이, 그   |\n",
      "| 1711       | 직각삼각형        | 브루트포스, 기하학, 피타고 | 1713       | 후보 추천하기            | 구현, 시뮬레이션           |\n",
      "| 1743       | 음식물 피하기     | 너비 우선, 깊이 우선, 그   | 1747       | 소수&팰린드롬            | 브루트포스, 수학, 정수론,  |\n",
      "| 1802       | 종이 접기         | 애드 혹, 분할 정복         | 1808       | 숌작업                   | 그리디 알, 트리            |\n",
      "| 1821       | 수들의 합 6       | 브루트포스                 | 1850       | 최대공약수               | 유클리드 , 수학, 정수론    |\n",
      "| 1889       | 선물 교환         | 브루트포스, 자료 구조, 그  | 1890       | 점프                     | 다이나믹                   |\n",
      "| 1911       | 흙길 보수하기     | 정렬, 스위핑               | 1914       | 하노이 탑                | 임의 정밀, 재귀            |\n",
      "| 1926       | 그림              | 너비 우선, 깊이 우선, 그   | 1931       | 회의실 배정              | 그리디 알, 정렬            |\n",
      "| 1932       | 정수 삼각형       | 다이나믹                   | 1946       | 신입 사원                | 그리디 알, 정렬            |\n",
      "| 1991       | 트리 순회         | 재귀, 트리                 | 1992       | 쿼드트리                 | 분할 정복, 재귀            |\n",
      "| 1997       | 박스포장          | 구현, 수학, 시뮬레이션     | 2002       | 추월                     | 자료 구조, 해시를 사, 구   |\n",
      "| 2016       | 미팅 주선하기     | 많은 조건, 구현            | 2040       | 수 게임                  | 다이나믹 , 게임 이론       |\n",
      "+------------+-------------------+----------------------------+------------+--------------------------+----------------------------+\n"
     ]
    }
   ],
   "source": [
    "#https://solved.ac/api/v3/search/problem?query=solvable:true+tier:10&page=1\n",
    "level = '10'\n",
    "page = '1'\n",
    "json_data = {\n",
    "    \"query\":\"solvable:true tier:\"+level,\n",
    "    \"page\":page,\n",
    "}\n",
    "res = requests.get(\"https://solved.ac/api/v3/search/problem\",json_data)\n",
    "table = PrettyTable()\n",
    "level = '10'\n",
    "table.title = '레벨별문제 '+ level\n",
    "table.field_names = ['문제번호_1','문제명_1','문제타입_1','문제번호_2', '문제명_2', '문제타입_2'] \n",
    "table.align['문제번호_1'] = \"l\"\n",
    "table.align['문제명_1'] = \"l\"\n",
    "table.align['문제타입_1'] = \"l\"\n",
    "table.align['문제번호_2'] = \"l\"\n",
    "table.align['문제명_2'] = \"l\"\n",
    "table.align['문제타입_2'] = \"l\"\n",
    "\n",
    "add_item = []\n",
    "for item in res.json()['items']:\n",
    "    add_item.append(item['problemId'])\n",
    "    add_item.append(item['titleKo'])\n",
    "    problem_type = []\n",
    "    for in_item in item['tags']:\n",
    "        for iin_item in in_item['displayNames']:\n",
    "            if iin_item['language']=='ko':\n",
    "                problem_type.append(iin_item['name'].strip()[:5])\n",
    "    add_item.append(', '.join(problem_type)[:15])\n",
    "    \n",
    "    if len(add_item) == 6:\n",
    "        table.add_row(add_item)\n",
    "        add_item = []\n",
    "\n",
    "print(table)"
   ]
  },
  {
   "cell_type": "code",
   "execution_count": 191,
   "id": "b2f396ea",
   "metadata": {},
   "outputs": [
    {
     "data": {
      "text/plain": [
       "'1021번: 회전하는 큐'"
      ]
     },
     "execution_count": 191,
     "metadata": {},
     "output_type": "execute_result"
    }
   ],
   "source": [
    "res = boj_session.get('https://www.acmicpc.net/problem/1021')\n",
    "bs_html = bs(res.text,  \"html.parser\")\n",
    "bs_html.find('title').get_text()"
   ]
  },
  {
   "cell_type": "code",
   "execution_count": 199,
   "id": "0d22a20a",
   "metadata": {},
   "outputs": [
    {
     "name": "stdout",
     "output_type": "stream",
     "text": [
      "지민이는 N개의 원소를 포함하고 있는 양방향 순환 큐를 가지고 있다. 지민이는 이 큐에서 몇 개의 원소를 뽑아내려고 한다.지민이는 이 큐에서 다음과 같은 3가지 연산을 수행할 수 있다.큐에 처음에 포함되어 있던 수 N이 주어진다. 그리고 지민이가 뽑아내려고 하는 원소의 위치가 주어진다. (이 위치는 가장 처음 큐에서의 위치이다.) 이때, 그 원소를 주어진 순서대로 뽑아내는데 드는 2번, 3번 연산의 최솟값을 출력하는 프로그램을 작성하시오.\n",
      "첫째 줄에 큐의 크기 N과 뽑아내려고 하는 수의 개수 M이 주어진다. N은 50보다 작거나 같은 자연수이고, M은 N보다 작거나 같은 자연수이다. 둘째 줄에는 지민이가 뽑아내려고 하는 수의 위치가 순서대로 주어진다. 위치는 1보다 크거나 같고, N보다 작거나 같은 자연수이다.\n",
      "첫째 줄에 문제의 정답을 출력한다.\n",
      "\n",
      "\n",
      "['10 3\\n1 2 3', '0', '10 3\\n2 9 5', '8']\n",
      "['32 6\\n27 16 30 11 6 23', '59', '10 10\\n1 6 3 2 7 9 8 4 10 5', '14']\n",
      "+-------------------------------------------------------------------+\n",
      "|                              예제입력                             |\n",
      "+------------------+------------+----------------------+------------+\n",
      "| 예제입력_1       | 예제출력_1 | 예제입력_2           | 예제출력_2 |\n",
      "+------------------+------------+----------------------+------------+\n",
      "| 10 3             | 0          | 10 3                 | 8          |\n",
      "| 1 2 3            |            | 2 9 5                |            |\n",
      "| 32 6             | 59         | 10 10                | 14         |\n",
      "| 27 16 30 11 6 23 |            | 1 6 3 2 7 9 8 4 10 5 |            |\n",
      "+------------------+------------+----------------------+------------+\n"
     ]
    }
   ],
   "source": [
    "for item in bs_html.find_all('section', 'problem-section'):\n",
    "    print(''.join( [ss.get_text() for ss in item.find_all('p')]))\n",
    "    if item.select('tr'):\n",
    "        for in_item in item.select('tr'):\n",
    "            print(in_item.get_text().strip().replace('\\n', ''))\n",
    "    if item.select('img'):\n",
    "        img_src = item.find('img')['src']\n",
    "        if img_src.startswith('https://'):\n",
    "            display.display(display.Image(img_src))\n",
    "        else:\n",
    "            display.display(display.Image('https://www.acmicpc.net'+img_src))\n",
    "        #https://onlinejudgeimages.s3-ap-northeast-1.amazonaws.com/upload/201003/dfcmhrjj_142c3w76qg8_b.jpg\n",
    "\n",
    "table = PrettyTable()\n",
    "table.title = '예제입력'\n",
    "table.field_names = ['예제입력_1','예제출력_1','예제입력_2','예제출력_2'] \n",
    "table.align['예제입력_1'] = \"l\"\n",
    "table.align['예제출력_1'] = \"l\"\n",
    "table.align['예제입력_2'] = \"l\"\n",
    "table.align['예제출력_2'] = \"l\"\n",
    "add_item = []\n",
    "for item in bs_html.find_all('pre', class_='sampledata'):\n",
    "    add_item.append(item.get_text().strip().replace('\\r', ''))\n",
    "    if len(add_item) == 4:\n",
    "        print(add_item)\n",
    "        table.add_row(add_item)\n",
    "        add_item =[]\n",
    "\n",
    "if len(add_item) != 0:\n",
    "    while True:\n",
    "        if len(add_item) == 4:\n",
    "            table.add_row(add_item)\n",
    "            break\n",
    "        add_item.append('-')    \n",
    "\n",
    "print(table)"
   ]
  },
  {
   "cell_type": "code",
   "execution_count": 162,
   "id": "6a2d5b89",
   "metadata": {},
   "outputs": [
    {
     "data": {
      "application/javascript": [
       "(function (){\n",
       "    IPython.CodeCell.prototype._handle_set_next_input = function (payload) {\n",
       "        var data = {\n",
       "            cell: this,\n",
       "            text: payload.text,\n",
       "            replace: payload.replace,\n",
       "            clear_output: payload.clear_output,\n",
       "        execute: payload.execute\n",
       "        };\n",
       "        this.events.trigger('set_next_input.Notebook', data);\n",
       "    };\n",
       "\n",
       "    var that = IPython.notebook;\n",
       "    // Out with the old, in with the new\n",
       "    that.events.unbind(\"set_next_input\")\n",
       "    that.events.on('set_next_input.Notebook', function (event, data) {\n",
       "            if (data.replace) {\n",
       "                data.cell.set_text(data.text);\n",
       "                if (data.clear_output !== false) {\n",
       "                  // default (undefined) is true to preserve prior behavior\n",
       "                  data.cell.clear_output();\n",
       "                }\n",
       "            } else {\n",
       "                var index = that.find_cell_index(data.cell);\n",
       "                var new_cell = that.insert_cell_below('code',index);\n",
       "                new_cell.set_text(data.text);\n",
       "            }\n",
       "        \n",
       "        if (data.execute && data.execute === true) {\n",
       "        new_cell.execute();\n",
       "        } else {\n",
       "        that.dirty = true;\n",
       "        }\n",
       "    });\n",
       "})()"
      ],
      "text/plain": [
       "<IPython.core.display.Javascript object>"
      ]
     },
     "metadata": {},
     "output_type": "display_data"
    }
   ],
   "source": [
    "# making srouce code\n",
    "src = '%%writefile ./boj/'+ 'aa' +'.py\\n'\n",
    "src = src + '# 소스코드를 작성하는 공간입니다. 코딩을 하기 위해서는 writefile 라인을 주석처리해주세요\\n'\n",
    "source_init(src)"
   ]
  },
  {
   "cell_type": "code",
   "execution_count": 8,
   "id": "8a4739f3",
   "metadata": {},
   "outputs": [],
   "source": [
    "res = boj_session.get('https://www.acmicpc.net/problem/tags')\n",
    "bs_html = bs(res.text,  \"html.parser\")"
   ]
  },
  {
   "cell_type": "code",
   "execution_count": 20,
   "id": "beadf103",
   "metadata": {},
   "outputs": [
    {
     "name": "stdout",
     "output_type": "stream",
     "text": [
      "+-----------------------------------------------------------------------------------------------------------------------------+\n",
      "|                                                          알고리즘별                                                         |\n",
      "+------------------+----------------+----------------------+---------------------+----------------------+---------------------+\n",
      "|      링크_1      |     한글_1     |        링크_2        |        한글_2       |        링크_3        |        한글_3       |\n",
      "+------------------+----------------+----------------------+---------------------+----------------------+---------------------+\n",
      "| /problem/tag/124 |      수학      |   /problem/tag/102   |         구현        |   /problem/tag/25    | 다이나믹 프로그래밍 |\n",
      "| /problem/tag/25  |   Dynamic Pr   |   /problem/tag/175   |      자료 구조      |    /problem/tag/7    |     그래프 이론     |\n",
      "|  /problem/tag/7  |   Graph Theo   |   /problem/tag/158   |        문자열       |   /problem/tag/33    |   그리디 알고리즘   |\n",
      "| /problem/tag/33  |     Greedy     |   /problem/tag/125   | 브루트포스 알고리즘 |   /problem/tag/11    |     그래프 탐색     |\n",
      "| /problem/tag/11  |   Graph Trav   |   /problem/tag/97    |         정렬        |   /problem/tag/95    |        정수론       |\n",
      "| /problem/tag/95  |   Number The   |   /problem/tag/100   |        기하학       |   /problem/tag/120   |         트리        |\n",
      "| /problem/tag/120 |      Tree      |   /problem/tag/65    |    세그먼트 트리    | https://book.acmicpc |       BOJ Book      |\n",
      "| /problem/tag/12  |   이분 탐색    |   /problem/tag/109   |       애드 혹       |   /problem/tag/126   |    너비 우선 탐색   |\n",
      "| /problem/tag/126 |   Breadth-fi   |   /problem/tag/121   |       사칙연산      |   /problem/tag/141   |      시뮬레이션     |\n",
      "| /problem/tag/141 |   Simulation   |   /problem/tag/127   |    깊이 우선 탐색   |    /problem/tag/6    |        조합론       |\n",
      "|  /problem/tag/6  |   Combinator   |   /problem/tag/128   |        구성적       |   /problem/tag/139   |       누적 합       |\n",
      "| /problem/tag/139 |   Prefix Sum   | https://book.acmicpc |       BOJ Book      |   /problem/tag/137   |    많은 조건 분기   |\n",
      "| /problem/tag/137 |   Case Work    |   /problem/tag/14    |      비트마스킹     |   /problem/tag/22    |     데이크스트라    |\n",
      "| /problem/tag/22  |   Dijkstra's   |   /problem/tag/136   |  해시를 사용한 집합 |    /problem/tag/5    |       백트래킹      |\n",
      "|  /problem/tag/5  |   Backtracki   |   /problem/tag/96    |         파싱        |   /problem/tag/106   |        스위핑       |\n",
      "| /problem/tag/106 |    Sweeping    |   /problem/tag/81    |      분리 집합      |   /problem/tag/74    |  트리를 사용한 집합 |\n",
      "| /problem/tag/74  |   Set / Map    |   /problem/tag/24    |      분할 정복      |   /problem/tag/59    |     우선순위 큐     |\n",
      "| /problem/tag/59  |   Priority Q   |   /problem/tag/71    |         스택        |   /problem/tag/92    | 트리에서의 다이나믹 |\n",
      "| /problem/tag/92  |   Dynamic Pr   |   /problem/tag/80    |      두 포인터      |   /problem/tag/45    |      최대 유량      |\n",
      "| /problem/tag/45  |   Maximum Fl   |    /problem/tag/9    |      소수 판정      |   /problem/tag/140   |      게임 이론      |\n",
      "| /problem/tag/140 |   Game Theor   |   /problem/tag/66    |  느리게 갱신되는 세 | https://book.acmicpc |       BOJ Book      |\n",
      "| /problem/tag/170 | 매개 변수 탐색 |   /problem/tag/87    |  비트필드를 이용한  |   /problem/tag/39    |  분할 정복을 이용한 |\n",
      "| /problem/tag/39  |   Exponentia   |   /problem/tag/117   |   임의 정밀도 / 큰  |   /problem/tag/177   |        확률론       |\n",
      "| /problem/tag/177 |   Probabilit   |   /problem/tag/123   |    오프라인 쿼리    |   /problem/tag/62    |         재귀        |\n",
      "| /problem/tag/62  |   Recursion    |   /problem/tag/148   |      배낭 문제      |   /problem/tag/67    | 에라토스테네스의 체 |\n",
      "| /problem/tag/67  |   Sieve Of E   |   /problem/tag/161   |    값 / 좌표 압축   |   /problem/tag/13    |      이분 매칭      |\n",
      "| /problem/tag/13  |   Bipartite    |   /problem/tag/49    |   최소 스패닝 트리  |   /problem/tag/172   |  런타임 전의 전처리 |\n",
      "| /problem/tag/172 |   Precomputa   |   /problem/tag/26    |   유클리드 호제법   |   /problem/tag/41    |    최소 공통 조상   |\n",
      "| /problem/tag/41  |   Lowest Com   |   /problem/tag/31    |    플로이드–워셜    |   /problem/tag/78    |      위상 정렬      |\n",
      "| /problem/tag/78  |   Topologica   |    /problem/tag/8    |         해싱        |   /problem/tag/144   |      선형대수학     |\n",
      "| /problem/tag/144 |   Linear Alg   |   /problem/tag/38    |   포함 배제의 원리  |   /problem/tag/76    |    강한 연결 요소   |\n",
      "| /problem/tag/76  |   Strongly C   |   /problem/tag/20    |      볼록 껍질      |   /problem/tag/84    |      희소 배열      |\n",
      "| /problem/tag/84  |   Sparse Tab   |   /problem/tag/28    |   고속 푸리에 변환  |   /problem/tag/79    |        트라이       |\n",
      "| /problem/tag/79  |      Trie      |   /problem/tag/48    |  최소 비용 최대 유  |   /problem/tag/77    |   접미사 배열과 lc  |\n",
      "| /problem/tag/77  |   Suffix Arr   |   /problem/tag/169   |  작은 집합에서 큰   |   /problem/tag/115   |       무작위화      |\n",
      "| /problem/tag/115 |   Randomizat   |   /problem/tag/130   |    제곱근 분할법    |   /problem/tag/73    |          덱         |\n",
      "| /problem/tag/73  |     Deque      |   /problem/tag/46    |   중간에서 만나기   |   /problem/tag/111   |       미적분학      |\n",
      "| /problem/tag/111 |    Calculus    |   /problem/tag/131   |     3차원 기하학    |   /problem/tag/42    |    선분 교차 판정   |\n",
      "| /problem/tag/42  |   Line Segme   |   /problem/tag/70    |  스프라그–그런디 정 |   /problem/tag/89    |  볼록 껍질을 이용한 |\n",
      "| /problem/tag/89  |   Convex Hul   |   /problem/tag/150   |  오일러 경로 테크닉 |   /problem/tag/40    |         kmp         |\n",
      "| /problem/tag/40  |   Knuth–morr   |   /problem/tag/68    |   슬라이딩 윈도우   |   /problem/tag/188   |      센트로이드     |\n",
      "| /problem/tag/188 |    Centroid    |   /problem/tag/43    |  가장 긴 증가하는   |   /problem/tag/32    |    가우스 소거법    |\n",
      "| /problem/tag/32  |   Gaussian E   |   /problem/tag/35    |      heavy-ligh     |   /problem/tag/60    |   피타고라스 정리   |\n",
      "| /problem/tag/60  |   Pythagoras   |   /problem/tag/18    |   센트로이드 분할   |   /problem/tag/101   |      삼분 탐색      |\n",
      "| /problem/tag/101 |   Ternary Se   |   /problem/tag/142   |       휴리스틱      |   /problem/tag/167   |  최대 유량 최소 컷  |\n",
      "| /problem/tag/167 |   Max-flow M   |   /problem/tag/152   |      비트 집합      |   /problem/tag/171   |   순열 사이클 분할  |\n",
      "| /problem/tag/171 |   Permutatio   |   /problem/tag/93    |     오일러 경로     |    /problem/tag/4    |   단절점과 단절선   |\n",
      "|  /problem/tag/4  |   Articulati   |    /problem/tag/1    |        2-sat        |   /problem/tag/164   |   모듈로 곱셈 역원  |\n",
      "| /problem/tag/164 |   Modular Mu   |   /problem/tag/72    |          큐         |   /problem/tag/55    | 퍼시스턴트 세그먼트 |\n",
      "| /problem/tag/55  |   Persistent   |   /problem/tag/116   |        물리학       |   /problem/tag/143   |        선인장       |\n",
      "| /problem/tag/143 |     Cactus     |   /problem/tag/179   |   기댓값의 선형성   |   /problem/tag/19    |  중국인의 나머지 정 |\n",
      "| /problem/tag/19  |   Chinese Re   |   /problem/tag/176   |    0-1 너비 우선    |   /problem/tag/153   |    이중 연결 요소   |\n",
      "| /problem/tag/153 |   Biconnecte   |   /problem/tag/29    |   페르마의 소정리   |   /problem/tag/50    |         mo's        |\n",
      "| /problem/tag/50  |      Mo's      |    /problem/tag/3    |    다각형의 넓이    |   /problem/tag/10    |      벨만–포드      |\n",
      "| /problem/tag/10  |   Bellman–fo   |   /problem/tag/151   |    오일러 피 함수   |   /problem/tag/168   |     평면 그래프     |\n",
      "| /problem/tag/168 |   Planar Gra   |   /problem/tag/27    |  확장 유클리드 호제 |   /problem/tag/56    |  볼록 다각형 내부의 |\n",
      "| /problem/tag/56  |   Point In C   |   /problem/tag/91    |  분할 정복을 사용한 |   /problem/tag/110   |    벌리캠프–매시    |\n",
      "| /problem/tag/110 |   Berlekamp–   |   /problem/tag/54    |    병렬 이분 탐색   |   /problem/tag/69    |    스플레이 트리    |\n",
      "| /problem/tag/69  |   Splay Tree   |   /problem/tag/154   |     연결 리스트     |   /problem/tag/166   |  다차원 세그먼트 트 |\n",
      "| /problem/tag/166 |   Multidimen   |    /problem/tag/2    |     아호-코라식     |   /problem/tag/64    |  회전하는 캘리퍼스  |\n",
      "| /problem/tag/64  |   Rotating C   |   /problem/tag/138   |   외판원 순회 문제  |   /problem/tag/119   |   오일러 지표 (χ=   |\n",
      "| /problem/tag/119 |   Euler Char   |   /problem/tag/155   |    머지 소트 트리   |   /problem/tag/197   |     이분 그래프     |\n",
      "| /problem/tag/197 |   Bipartite    |   /problem/tag/44    |        매내처       |   /problem/tag/63    |     정규 표현식     |\n",
      "| /problem/tag/63  |   Regular Ex   |   /problem/tag/107   |  커넥션 프로파일을  |   /problem/tag/108   |  덱을 이용한 다이나 |\n",
      "| /problem/tag/108 |   Dynamic Pr   |   /problem/tag/51    |  뫼비우스 반전 공식 |   /problem/tag/61    |      라빈–카프      |\n",
      "| /problem/tag/61  |   Rabin–karp   |   /problem/tag/98    |     링크/컷 트리    |   /problem/tag/189   |    비둘기집 원리    |\n",
      "| /problem/tag/189 |   Pigeonhole   |   /problem/tag/157   |  함수 개형을 이용한 |   /problem/tag/145   |    트리 동형 사상   |\n",
      "| /problem/tag/145 |   Tree Isomo   |   /problem/tag/34    |    홀의 결혼 정리   |   /problem/tag/47    |  밀러–라빈 소수 판  |\n",
      "| /problem/tag/47  |   Miller–rab   |   /problem/tag/58    |      폴라드 로      |   /problem/tag/191   |      서큘레이션     |\n",
      "| /problem/tag/191 |   Circulatio   |   /problem/tag/52    |  오프라인 동적 연결 |   /problem/tag/103   |     선형 계획법     |\n",
      "| /problem/tag/103 |   Linear Pro   |   /problem/tag/122   |       수치해석      |   /problem/tag/190   |    반평면 교집합    |\n",
      "| /problem/tag/190 |   Half Plane   |   /problem/tag/36    |       헝가리안      |   /problem/tag/134   |     aliens 트릭     |\n",
      "| /problem/tag/134 |   Aliens Tri   |   /problem/tag/181   |     쌍대 그래프     |   /problem/tag/57    |  오목 다각형 내부의 |\n",
      "| /problem/tag/57  |   Point In N   |   /problem/tag/180   |        쌍대성       |   /problem/tag/15    |    일반적인 매칭    |\n",
      "| /problem/tag/15  |   General Ma   |   /problem/tag/82    | 보로노이 다이어그램 |   /problem/tag/104   |      매트로이드     |\n",
      "| /problem/tag/104 |    Matroid     |   /problem/tag/113   |      뤼카 정리      |   /problem/tag/146   |      이산 로그      |\n",
      "| /problem/tag/146 |   Discrete L   |   /problem/tag/178   |        통계학       |   /problem/tag/16    |  번사이드 보조정리  |\n",
      "| /problem/tag/16  |   Burnside's   |   /problem/tag/162   |     최소 외접원     |   /problem/tag/193   |      트리 압축      |\n",
      "| /problem/tag/193 |   Tree Compr   |   /problem/tag/198   |      생성 함수      |   /problem/tag/112   |       키타마사      |\n",
      "| /problem/tag/112 |    Kitamasa    |   /problem/tag/135   |   도미네이터 트리   |   /problem/tag/184   |     담금질 기법     |\n",
      "| /problem/tag/184 |   Simulated    |   /problem/tag/53    |      회문 트리      |   /problem/tag/83    |          z          |\n",
      "| /problem/tag/83  |       Z        |   /problem/tag/90    |    크누스 최적화    |   /problem/tag/129   |     양방향 탐색     |\n",
      "| /problem/tag/129 |   Bidirectio   |   /problem/tag/192   |    안정 결혼 문제   |   /problem/tag/204   |      트리 분할      |\n",
      "| /problem/tag/204 |   Tree Decom   |   /problem/tag/159   |         로프        |   /problem/tag/199   |    utf-8 입력 처    |\n",
      "| /problem/tag/199 |   Utf-8 Inpu   |   /problem/tag/201   |      현 그래프      |   /problem/tag/23    |  유향 최소 신장 트  |\n",
      "| /problem/tag/23  |   Directed M   |   /problem/tag/75    |    스토어–바그너    |   /problem/tag/147   |     이산 제곱근     |\n",
      "| /problem/tag/147 |   Discrete S   |   /problem/tag/163   |      히르쉬버그     |   /problem/tag/165   |  단조 큐를 이용한   |\n",
      "| /problem/tag/165 |   Monotone Q   |   /problem/tag/173   |     춤추는 링크     |   /problem/tag/174   |       크누스 x      |\n",
      "| /problem/tag/174 |   Knuth's X    |   /problem/tag/182   |     접미사 트리     |   /problem/tag/183   |      그린 정리      |\n",
      "| /problem/tag/183 |   Green's Th   |   /problem/tag/206   |    데카르트 트리    |   /problem/tag/207   |  부분집합의 합 다이 |\n",
      "| /problem/tag/207 |   Sum Over S   |   /problem/tag/21    |   델로네 삼각분할   |   /problem/tag/114   |     베이즈 정리     |\n",
      "| /problem/tag/114 |   Bayes Theo   |   /problem/tag/132   |  4차원 이상의 기하  |   /problem/tag/160   |  보이어–무어 다수결 |\n",
      "| /problem/tag/160 |   Boyer–moor   |   /problem/tag/187   |      픽의 정리      |   /problem/tag/200   |        차수열       |\n",
      "| /problem/tag/200 |   Degree Seq   |   /problem/tag/105   |       탑 트리       |   /problem/tag/202   |  도형에서의 불 연산 |\n",
      "| /problem/tag/202 |   Boolean Op   |   /problem/tag/94    |    레드-블랙 트리   |   /problem/tag/185   |      차분 공격      |\n",
      "| /problem/tag/185 |   Differenti   |   /problem/tag/186   |          a*         |   /problem/tag/203   |      생일 문제      |\n",
      "| /problem/tag/203 |   Birthday P   |   /problem/tag/205   |    하켄부시 게임    |   /problem/tag/208   |     경사 하강법     |\n",
      "+------------------+----------------+----------------------+---------------------+----------------------+---------------------+\n"
     ]
    }
   ],
   "source": [
    "table = PrettyTable()\n",
    "table.title = '알고리즘별'\n",
    "table.field_names = ['링크_1','한글_1','링크_2','한글_2', '링크_3', '한글_3'] \n",
    "add_item = []\n",
    "for item in bs_html.find('tbody').find_all('td'):\n",
    "    if item.find('a') != None:\n",
    "        if len(add_item) == 6:\n",
    "            table.add_row(add_item)\n",
    "            add_item = []\n",
    "        if item.select('a')[0]['href'] in add_item :\n",
    "            continue\n",
    "        add_item.append(item.select('a')[0]['href'].strip()[:20])\n",
    "        add_item.append(item.find('a').get_text().strip()[:10])\n",
    "print(table)"
   ]
  },
  {
   "cell_type": "code",
   "execution_count": 78,
   "id": "e5b034e3",
   "metadata": {},
   "outputs": [],
   "source": [
    "res = boj_session.get('https://www.acmicpc.net/step/1')\n",
    "bs_html = bs(res.text,  \"html.parser\")"
   ]
  },
  {
   "cell_type": "code",
   "execution_count": 93,
   "id": "71eab2f7",
   "metadata": {},
   "outputs": [
    {
     "name": "stdout",
     "output_type": "stream",
     "text": [
      "+---------------------------------------------------------------------------------------------------------------------------+\n",
      "|                                                          문제풀이                                                         |\n",
      "+------------+-------------+------------+---------------------------------------+------------+------------------------------+\n",
      "| 문제번호_1 |   문제명_1  | 문제번호_2 |                문제명_2               | 문제번호_3 |           문제명_3           |\n",
      "+------------+-------------+------------+---------------------------------------+------------+------------------------------+\n",
      "|    2557    | Hello World |    1000    |                  A+B                  |    1001    |             A-B              |\n",
      "|   10998    |     A×B     |    1008    |                  A/B                  |   10869    |           사칙연산           |\n",
      "|   10926    |     ??!     |   18108    | 1998년생인 내가 태국에서는 2541년생?! |    3003    | 킹, 퀸, 룩, 비숍, 나이트, 폰 |\n",
      "|   10430    |    나머지   |    2588    |                  곱셈                 |   10171    |            고양이            |\n",
      "|   10172    |      개     |   25083    |                  새싹                 |            |                              |\n",
      "+------------+-------------+------------+---------------------------------------+------------+------------------------------+\n"
     ]
    }
   ],
   "source": [
    "table = PrettyTable()\n",
    "table.title = '문제풀이'\n",
    "table.field_names = ['문제번호_1', '문제명_1','문제번호_2', '문제명_2','문제번호_3', '문제명_3'] \n",
    "add_item = []\n",
    "for item in bs_html.find('tbody').find_all('tr'):\n",
    "    try:\n",
    "        if len(add_item) == 4 :\n",
    "            add_item.append(item.find('td', class_='list_problem_id').get_text())\n",
    "            add_item.append(item.find('a').get_text())\n",
    "            table.add_row(add_item)\n",
    "            add_item = []\n",
    "        else:\n",
    "            add_item.append(item.find('td', class_='list_problem_id').get_text())\n",
    "            add_item.append(item.find('a').get_text())\n",
    "    except:\n",
    "        continue\n",
    "if len(add_item) > 0:\n",
    "    while True:\n",
    "        if(len(add_item) == 6):\n",
    "            table.add_row(add_item)\n",
    "            break\n",
    "        add_item.append('')\n",
    "print(table)"
   ]
  },
  {
   "cell_type": "code",
   "execution_count": 57,
   "id": "da4ae7db",
   "metadata": {},
   "outputs": [],
   "source": [
    "res = boj_session.get('https://www.acmicpc.net/step')"
   ]
  },
  {
   "cell_type": "code",
   "execution_count": 58,
   "id": "e19ab2d4",
   "metadata": {},
   "outputs": [],
   "source": [
    "bs_html = bs(res.text,  \"html.parser\")"
   ]
  },
  {
   "cell_type": "code",
   "execution_count": 91,
   "id": "ffb93a25",
   "metadata": {},
   "outputs": [
    {
     "name": "stdout",
     "output_type": "stream",
     "text": [
      "+-----------------------------------------------------------------------------------------------------------------------------------------------------------------------------------------------------------+\n",
      "|                                                                                                 단계별풀이                                                                                                |\n",
      "+------------------------------+------------------------------------+-------------+-------------------------------------+--------------------------------+--------------------------------------------------+\n",
      "|             단계             |                제목                |     설명    |                 정보                |             총문제             |                       해결                       |\n",
      "+------------------------------+------------------------------------+-------------+-------------------------------------+--------------------------------+--------------------------------------------------+\n",
      "|              1               |                2557                | Hello World |                                     |             328117             |                      812536                      |\n",
      "|           39.698%            |     Hello World!를 화면에 출력     |      2      |                 1000                |              A+B               |                      다국어                      |\n",
      "|            296216            |               719536               |   41.294%   | 두 수를 입력받고 합을 출력하는 문제 |               3                |                       1001                       |\n",
      "|             A-B              |                                    |    207169   |                298073               |            70.959%             | 두 수를 입력받고 뺄셈을 한 결과를 출력하는 문제  |\n",
      "|              4               |               10998                |     A×B     |                                     |             157166             |                      203454                      |\n",
      "|           78.213%            |             곱셈 문제              |      5      |                 1008                |              A/B               |                 성공스페셜 저지                  |\n",
      "|            164026            |               485250               |   34.886%   |  나눗셈 문제. 이 문제에는 \"스페셜   |               6                |                      10869                       |\n",
      "|           사칙연산           |                                    |    161966   |                341416               |            47.828%             |                  모든 연산 문제                  |\n",
      "|              7               |               10926                |     ??!     |                                     |             59282              |                      116148                      |\n",
      "|           52.192%            |     입출력을 응용하는 문제??!      |      8      |                18108                | 1998년생인 내가 태국에서는 254 |                                                  |\n",
      "|            52652             |               80007                |   66.200%   |    식을 직접 세워서 계산하는 문제   |               9                |                       3003                       |\n",
      "| 킹, 퀸, 룩, 비숍, 나이트, 폰 |               다국어               |    28659    |                51115                |            57.497%             |                        ♟️                         |\n",
      "|              10              |               10430                |    나머지   |                                     |             142985             |                      270099                      |\n",
      "|           53.466%            | 네 개의 계산식을 계산하는 문제. 이 |      11     |                 2588                |              곱셈              |                                                  |\n",
      "|            121637            |               255960               |   47.918%   |         빈 칸에 들어갈 수는?        |               12               |                      10171                       |\n",
      "|            고양이            |               다국어               |    141997   |                451474               |            33.037%             | \\, ' 등의 문자에 주의하며 고양이를 출력하는 문제 |\n",
      "|              13              |               10172                |      개     |                다국어               |             136047             |                      340972                      |\n",
      "|           41.082%            |   \", `, \\ 등의 문자에 주의하며     |      14     |                25083                |              새싹              |                    언어 제한                     |\n",
      "+------------------------------+------------------------------------+-------------+-------------------------------------+--------------------------------+--------------------------------------------------+\n"
     ]
    }
   ],
   "source": [
    "table = PrettyTable()\n",
    "table.title = '단계별풀이'\n",
    "table.field_names = ['단계', '제목','설명', '정보', '총문제','해결'] \n",
    "add_item = []\n",
    "for item in bs_html.find('tbody').find_all('td'):\n",
    "    if len(add_item) == 5:\n",
    "        add_item.append(item.get_text())\n",
    "        table.add_row(add_item)\n",
    "        add_item = []\n",
    "    else:\n",
    "        add_item.append(item.get_text()[:20])\n",
    "print(table)"
   ]
  },
  {
   "cell_type": "code",
   "execution_count": 27,
   "id": "e949bff3",
   "metadata": {},
   "outputs": [],
   "source": [
    "res = boj_session.get('https://www.acmicpc.net/problemset/1')"
   ]
  },
  {
   "cell_type": "code",
   "execution_count": 56,
   "id": "a1fbb982",
   "metadata": {},
   "outputs": [
    {
     "name": "stdout",
     "output_type": "stream",
     "text": [
      "+---------------------------------------------------------------------------------------------------------------------+\n",
      "|                                                       문제풀이                                                      |\n",
      "+------------+--------------------+------------+--------------------------+------------+------------------------------+\n",
      "| 문제번호_1 |      문제명_1      | 문제번호_2 |         문제명_2         | 문제번호_3 |           문제명_3           |\n",
      "+------------+--------------------+------------+--------------------------+------------+------------------------------+\n",
      "|    1000    |        A+B         |    1001    |           A-B            |    1002    |             터렛             |\n",
      "|    1003    |   피보나치 함수    |    1004    |        어린 왕자         |    1005    |          ACM Craft           |\n",
      "|    1006    |   습격자 초라기    |    1007    |        벡터 매칭         |    1008    |             A/B              |\n",
      "|    1009    |      분산처리      |    1010    |        다리 놓기         |    1011    | Fly me to the Alpha Centauri |\n",
      "|    1012    |    유기농 배추     |    1013    |         Contact          |    1014    |             컨닝             |\n",
      "|    1015    |     수열 정렬      |    1016    |       제곱 ㄴㄴ 수       |    1017    |           소수 쌍            |\n",
      "|    1018    | 체스판 다시 칠하기 |    1019    |        책 페이지         |    1020    |        디지털 카운터         |\n",
      "|    1021    |    회전하는 큐     |    1022    | 소용돌이 예쁘게 출력하기 |    1023    |         괄호 문자열          |\n",
      "|    1024    |     수열의 합      |    1025    |       제곱수 찾기        |    1026    |             보물             |\n",
      "|    1027    |     고층 건물      |    1028    |     다이아몬드 광산      |    1029    |          그림 교환           |\n",
      "|    1030    |    프렉탈 평면     |    1031    |        스타 대결         |    1032    |        명령 프롬프트         |\n",
      "|    1033    |       칵테일       |    1034    |           램프           |    1035    |        조각 움직이기         |\n",
      "|    1036    |       36진수       |    1037    |           약수           |    1038    |         감소하는 수          |\n",
      "|    1039    |        교환        |    1040    |           정수           |    1041    |            주사위            |\n",
      "|    1042    |         움         |    1043    |          거짓말          |    1044    |           팀 선발            |\n",
      "|    1045    |        도로        |    1046    |          그림자          |    1047    |            울타리            |\n",
      "|    1048    |       유니콘       |    1049    |          기타줄          |    1050    |             물약             |\n",
      "|    1051    |   숫자 정사각형    |    1052    |           물병           |    1053    |        팰린드롬 공장         |\n",
      "|    1054    |   팰린드롬 문장    |    1055    |         끝이없음         |    1056    |              수              |\n",
      "|    1057    |      토너먼트      |    1058    |           친구           |    1059    |          좋은 구간           |\n",
      "|    1060    |      좋은 수       |    1061    |          삼각형          |    1062    |            가르침            |\n",
      "|    1063    |         킹         |    1064    |        평행사변형        |    1065    |             한수             |\n",
      "|    1066    |      에이한수      |    1067    |           이동           |    1068    |             트리             |\n",
      "|    1069    |       집으로       |    1070    |      김지민의 침략       |    1071    |             소트             |\n",
      "|    1072    |        게임        |    1073    |          도미노          |    1074    |              Z               |\n",
      "|    1075    |       나누기       |    1076    |           저항           |    1077    |             넓이             |\n",
      "|    1078    |       뒤집음       |    1079    |          마피아          |    1080    |             행렬             |\n",
      "|    1081    |         합         |    1082    |         방 번호          |    1083    |             소트             |\n",
      "|    1084    |     방 번호 2      |    1085    |    직사각형에서 탈출     |    1086    |            박성원            |\n",
      "|    1087    |      쥐 잡기       |    1088    |          케이크          |    1089    |       스타트링크 타워        |\n",
      "|    1090    |        체커        |    1091    |        카드 섞기         |    1092    |              배              |\n",
      "|    1093    |    스티커 수집     |    1094    |          막대기          |    1095    |         마법의 구슬          |\n",
      "|    1096    |     종이 접기      |    1097    |      마법의 문자열       |    1098    |         쌍둥이 마을          |\n",
      "|    1099    |  알 수 없는 문장   |            |                          |            |                              |\n",
      "+------------+--------------------+------------+--------------------------+------------+------------------------------+\n"
     ]
    }
   ],
   "source": [
    "bs_html = bs(res.text,  \"html.parser\")\n",
    "table = PrettyTable()\n",
    "table.title = '문제풀이'\n",
    "table.field_names = ['문제번호_1', '문제명_1','문제번호_2', '문제명_2','문제번호_3', '문제명_3'] \n",
    "add_item = []\n",
    "for item in bs_html.find('tbody').find_all('tr'):\n",
    "    if len(add_item) == 4 :\n",
    "        add_item.append(item.find('td', class_='list_problem_id').get_text())\n",
    "        add_item.append(item.find('a').get_text())\n",
    "        table.add_row(add_item)\n",
    "        add_item = []\n",
    "    else:\n",
    "        add_item.append(item.find('td', class_='list_problem_id').get_text())\n",
    "        add_item.append(item.find('a').get_text())\n",
    "if len(add_item) > 0:\n",
    "    while True:\n",
    "        if(len(add_item) == 6):\n",
    "            table.add_row(add_item)\n",
    "            break\n",
    "        add_item.append('')\n",
    "print(table)"
   ]
  },
  {
   "cell_type": "code",
   "execution_count": 42,
   "id": "f6bd84f7",
   "metadata": {},
   "outputs": [
    {
     "name": "stdout",
     "output_type": "stream",
     "text": [
      "3. Longest Substring Without Repeating Characters\n",
      "longest-substring-without-repeating-characters\n",
      "5. Longest Palindromic Substring\n",
      "longest-palindromic-substring\n",
      "6. Zigzag Conversion\n",
      "zigzag-conversion\n",
      "11. Container With Most Water\n",
      "container-with-most-water\n",
      "12. Integer to Roman\n",
      "integer-to-roman\n"
     ]
    }
   ],
   "source": [
    "leet_session = get_session_from_site(driver)\n",
    "res = leet_session.post('https://leetcode.com/graphql', json=getProblemListQueryJson('MEDIUM', 50))\n",
    "question_id = res.json()['data']['problemsetQuestionList']['questions'][0]['frontendQuestionId']\n",
    "file_name = res.json()['data']['problemsetQuestionList']['questions'][0]['titleSlug']\n",
    "for i in range(5):\n",
    "    print(res.json()['data']['problemsetQuestionList']['questions'][i]['frontendQuestionId'], end='. ')\n",
    "    print(res.json()['data']['problemsetQuestionList']['questions'][i]['title'])\n",
    "    print(res.json()['data']['problemsetQuestionList']['questions'][i]['titleSlug'])"
   ]
  },
  {
   "cell_type": "code",
   "execution_count": 12,
   "id": "dd0cdbab-331a-4508-82bc-a22c6d1a1fda",
   "metadata": {
    "scrolled": true
   },
   "outputs": [
    {
     "name": "stdout",
     "output_type": "stream",
     "text": [
      "Two Sum\n",
      "Array, Hash Table, \n",
      "Given an array of integers nums and an integer target, return indices of the two numbers such that they add up to target.\n",
      "You may assume that each input would have exactly one solution, and you may not use the same element twice.\n",
      "You can return the answer in any order.\n",
      "\n",
      "Example 1:\n",
      "Input: nums = [2,7,11,15], target = 9\n",
      "Output: [0,1]\n",
      "Explanation: Because nums[0] + nums[1] == 9, we return [0, 1].\n",
      "\n",
      "Example 2:\n",
      "Input: nums = [3,2,4], target = 6\n",
      "Output: [1,2]\n",
      "\n",
      "Example 3:\n",
      "Input: nums = [3,3], target = 6\n",
      "Output: [0,1]\n",
      "Constraints:\n",
      "2 <= nums.length <= 104\n",
      "-109 <= nums[i] <= 109\n",
      "-109 <= target <= 109\n",
      "Only one valid answer exists.\n",
      "Follow-up:\n",
      "Can you come up with an algorithm that is less than\n",
      "O(n2)\n",
      "time complexity?\n"
     ]
    },
    {
     "data": {
      "application/javascript": [
       "(function (){\n",
       "    IPython.CodeCell.prototype._handle_set_next_input = function (payload) {\n",
       "        var data = {\n",
       "            cell: this,\n",
       "            text: payload.text,\n",
       "            replace: payload.replace,\n",
       "            clear_output: payload.clear_output,\n",
       "        execute: payload.execute\n",
       "        };\n",
       "        this.events.trigger('set_next_input.Notebook', data);\n",
       "    };\n",
       "\n",
       "    var that = IPython.notebook;\n",
       "    // Out with the old, in with the new\n",
       "    that.events.unbind(\"set_next_input\")\n",
       "    that.events.on('set_next_input.Notebook', function (event, data) {\n",
       "            if (data.replace) {\n",
       "                data.cell.set_text(data.text);\n",
       "                if (data.clear_output !== false) {\n",
       "                  // default (undefined) is true to preserve prior behavior\n",
       "                  data.cell.clear_output();\n",
       "                }\n",
       "            } else {\n",
       "                var index = that.find_cell_index(data.cell);\n",
       "                var new_cell = that.insert_cell_below('code',index);\n",
       "                new_cell.set_text(data.text);\n",
       "            }\n",
       "        \n",
       "        if (data.execute && data.execute === true) {\n",
       "        new_cell.execute();\n",
       "        } else {\n",
       "        that.dirty = true;\n",
       "        }\n",
       "    });\n",
       "})()"
      ],
      "text/plain": [
       "<IPython.core.display.Javascript object>"
      ]
     },
     "metadata": {},
     "output_type": "display_data"
    }
   ],
   "source": [
    "res = requests.post('https://leetcode.com/graphql', json=getProblemQueryJson('two-sum'))\n",
    "driver.get('https://leetcode.com/problems/'+'two-sum'+'/')\n",
    "getProblemText(res, 'Python3')"
   ]
  },
  {
   "cell_type": "code",
   "execution_count": null,
   "id": "523c435c",
   "metadata": {},
   "outputs": [],
   "source": [
    "%%writefile two-sum.py\n",
    "# 소스코드를 작성하는 공간입니다. 코딩을 하기 위해서는 writefile 라인을 주석처리해주세요\n",
    "class Solution:\n",
    "    def twoSum(self, nums: List[int], target: int) -> List[int]:\n",
    "        \n"
   ]
  },
  {
   "cell_type": "code",
   "execution_count": 13,
   "id": "421bef9b",
   "metadata": {},
   "outputs": [],
   "source": [
    "# submit 전에는 파일을 꼭 저장해주세요. 파일을 읽어서 서브밋을 날립니다.\n",
    "\n",
    "\n",
    "# set scource code pytho\n",
    "# 2 : java , 4 : python3   13 rust\n",
    "driver.find_element(By.XPATH, '/html/body/div[1]/div/div[2]/div[1]/div/div[3]/div/div[1]/div/div[1]/div[1]/div/div/div').click()\n",
    "time.sleep(0.5)\n",
    "driver.find_element(By.XPATH, '/html/body/div[6]/div/div/div/ul/li[4]').click()\n",
    "source_input_xpath = \"/html/body/div[1]/div/div[2]/div[1]/div/div[3]/div/div[1]/div/div[2]/div/div/div[6]/div[1]/div/div\"\n",
    "source_code = ''\n",
    "with open('two-sum.py') as f:\n",
    "    source_code = ''.join(f.readlines())\n",
    "clipboard_input(source_input_xpath, source_code)\n",
    "#//*[@id=\"app\"]/div/div[2]/div[1]/div/div[3]/div/div[3]/div[2]/div/button\n",
    "#/html/body/div[1]/div\n",
    "\n",
    "driver.find_element(By.XPATH, '/html/body/div[1]/div/div[2]/div[1]/div/div[3]/div/div[3]/div[2]/div/button').click()"
   ]
  },
  {
   "cell_type": "code",
   "execution_count": 49,
   "id": "6ce725c1-d234-46d4-9c87-25b9e5c18952",
   "metadata": {
    "scrolled": true
   },
   "outputs": [
    {
     "data": {
      "text/plain": [
       "{'id': '843309400',\n",
       " 'statusDisplay': 'Accepted',\n",
       " 'lang': 'python3',\n",
       " 'runtime': '2138 ms',\n",
       " 'timestamp': '1668438576',\n",
       " 'url': '/submissions/detail/843309400/',\n",
       " 'isPending': 'Not Pending',\n",
       " 'memory': '15 MB',\n",
       " '__typename': 'SubmissionDumpNode'}"
      ]
     },
     "execution_count": 49,
     "metadata": {},
     "output_type": "execute_result"
    }
   ],
   "source": [
    "# get result\n",
    "res = leet_session.post('https://leetcode.com/graphql', json=getSubmissionsQueryJson('two-sum'))\n",
    "res.json()['data']['submissionList']['submissions'][0]"
   ]
  },
  {
   "cell_type": "code",
   "execution_count": 23,
   "id": "739f9d8d",
   "metadata": {},
   "outputs": [
    {
     "name": "stdout",
     "output_type": "stream",
     "text": [
      "# 소스코드를 작성하는 공간입니다. 코딩을 하기 위해서는 writefile 라인을 주석처리해주세요\n",
      "class Solution:\n",
      "    def twoSum(self, nums: List[int], target: int) -> List[int]:\n",
      "        \n",
      "\n"
     ]
    }
   ],
   "source": [
    "source_code = ''\n",
    "with open('./leetcode/two-sum.py', encoding='utf-8') as f:\n",
    "    source_code = ''.join(f.readlines())\n",
    "print(source_code)"
   ]
  }
 ],
 "metadata": {
  "kernelspec": {
   "display_name": "Python 3 (ipykernel)",
   "language": "python",
   "name": "python3"
  },
  "language_info": {
   "codemirror_mode": {
    "name": "ipython",
    "version": 3
   },
   "file_extension": ".py",
   "mimetype": "text/x-python",
   "name": "python",
   "nbconvert_exporter": "python",
   "pygments_lexer": "ipython3",
   "version": "3.9.13"
  }
 },
 "nbformat": 4,
 "nbformat_minor": 5
}
