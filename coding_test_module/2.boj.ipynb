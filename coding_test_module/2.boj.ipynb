{
 "cells": [
  {
   "cell_type": "code",
   "execution_count": 55,
   "id": "63be67bc",
   "metadata": {},
   "outputs": [],
   "source": [
    "from codingtest import boj\n",
    "백준 = boj(['boj_id', 'boj_pass'])"
   ]
  },
  {
   "cell_type": "code",
   "execution_count": 3,
   "id": "d8a6fa7f",
   "metadata": {
    "scrolled": true
   },
   "outputs": [
    {
     "name": "stdout",
     "output_type": "stream",
     "text": [
      "+---------------------------------------------------------------------------------------------------------------------------+\n",
      "|                                                        레벨별문제 9                                                       |\n",
      "+------------+--------------------+----------------------------+------------+-------------------+---------------------------+\n",
      "| 문제번호_1 | 문제명_1           | 문제타입_1                 | 문제번호_2 | 문제명_2          | 문제타입_2                |\n",
      "+------------+--------------------+----------------------------+------------+-------------------+---------------------------+\n",
      "| 1012       | 유기농 배추        | 그래프 이, 그래프 탐, 너   | 1024       | 수열의 합         | 수학                      |\n",
      "| 1058       | 친구               | 브루트포스, 플로이드–, 그  | 1124       | 언더프라임        | 수학, 정수론, 소수 판정,  |\n",
      "| 1138       | 한 줄로 서기       | 구현                       | 1141       | 접두사            | 정렬, 문자열, 트리        |\n",
      "| 1182       | 부분수열의 합      | 백트래킹, 브루트포스       | 1198       | 삼각형으로 자르기 | 브루트포스, 기하학, 수학  |\n",
      "| 1206       | 사람의 수          | 브루트포스, 수학           | 1254       | 팰린드롬 만들기   | 브루트포스, 문자열        |\n",
      "| 1260       | DFS와 BFS          | 그래프 이, 그래프 탐, 너   | 1326       | 폴짝폴짝          | 너비 우선, 그래프 이, 그  |\n",
      "| 1406       | 에디터             | 자료 구조, 연결 리스, 스   | 1411       | 비슷한 단어       | 브루트포스, 문자열        |\n",
      "| 1421       | 나무꾼 이다솜      | 브루트포스, 구현           | 1455       | 뒤집기 II         | 그리디 알                 |\n",
      "| 1497       | 기타콘서트         | 비트마스킹, 브루트포스, 조 | 1500       | 최대 곱           | 수학                      |\n",
      "| 1503       | 세 수 고르기       | 브루트포스                 | 1535       | 안녕              | 브루트포스, 다이나믹 , 배 |\n",
      "| 1541       | 잃어버린 괄호      | 그리디 알, 수학, 파싱,     | 1564       | 팩토리얼5         | 수학, 정수론              |\n",
      "| 1654       | 랜선 자르기        | 이분 탐색, 매개 변수       | 1699       | 제곱수의 합       | 다이나믹 , 수학           |\n",
      "| 1706       | 크로스워드         | 구현, 파싱, 정렬, 문자열   | 1709       | 타일 위의 원      | 기하학, 구현, 피타고라스  |\n",
      "| 1780       | 종이의 개수        | 분할 정복, 재귀            | 1793       | 타일링            | 임의 정밀, 다이나믹       |\n",
      "| 1912       | 연속합             | 다이나믹                   | 1927       | 최소 힙           | 자료 구조, 우선순위       |\n",
      "| 1965       | 상자넣기           | 다이나믹                   | 1986       | 체스              | 구현                      |\n",
      "| 2004       | 조합 0의 개수      | 수학, 정수론               | 2063       | 철사 연결         | 그리디 알, 정렬           |\n",
      "| 2072       | 오목               | 구현, 시뮬레이션           | 2075       | N번째 큰 수       | 자료 구조, 우선순위 , 정  |\n",
      "| 2117       | 원형 댄스          | 구현, 수학                 | 2148       | Super 12          | 정렬                      |\n",
      "| 2189       | Magickology        | 구현                       | 2210       | 숫자판 점프       | 브루트포스, 깊이 우선, 그 |\n",
      "| 2232       | 지뢰               | 그리디 알, 정렬            | 2257       | 화학식량          | 자료 구조, 스택, 문자열   |\n",
      "| 2290       | LCD Test           | 구현, 문자열               | 2304       | 창고 다각형       | 브루트포스, 자료 구조, 스 |\n",
      "| 2371       | 파일 구별하기      | 브루트포스, 자료 구조, 해  | 2477       | 참외밭            | 기하학, 구현, 수학        |\n",
      "| 2502       | 떡 먹는 호랑이     | 브루트포스, 다이나믹 , 수  | 2509       | 쉬운 매췽         |                           |\n",
      "| 2553       | 마지막 팩토리얼 수 | 수학, 정수론               | 2630       | 색종이 만들기     | 분할 정복, 재귀           |\n",
      "+------------+--------------------+----------------------------+------------+-------------------+---------------------------+\n"
     ]
    }
   ],
   "source": [
    "백준.레벨별문제리스트('9','1')"
   ]
  },
  {
   "cell_type": "code",
   "execution_count": 56,
   "id": "f7947a2b",
   "metadata": {},
   "outputs": [
    {
     "name": "stdout",
     "output_type": "stream",
     "text": [
      "$4k$×$4k$의 크기인 미로가 있다. 이 미로의 최상단 왼쪽을 $(1, 1)$, 최하단 오른쪽을 $(4k, 4k)$로 하자.$\\{(y, x) | 4×i < y ≤ 4×(i+1), 4×j < x ≤ 4×(j+1), (0 ≤ i, j < k)\\}$ 를 만족하는 영역이 하나의 구역으로 구분되어 있다. 쉽게 말해, 4x4 크기를 하나의 구역으로 본다는 것이다. 아래 그림은 $k$가 2인 미로를 4×4 크기로 구역을 나누고 각 구역마다 다른 색상으로 칠한 것이다. $(y, x)$에 써져있는 숫자들은 구역의 번호이다.예를 들어, $(2, 3)$와 $(3, 4)$은 둘다 구역 1이므로 같은 구역에 속하고 $(2, 3)$와 $(3, 5)$는 각각 구역 1, 구역 2이므로 다른 구역이다.미로를 탈출할 때까지 매 시간마다 아래와 같은 순서대로 진행된다.미로는 시작 부분인 'S', 이동할 수 있는 곳 '.', 벽 '#', 탈출할 수 있는 곳 'E'로 구성되어 있다. 'S'에서 출발하여 'E'로 갈때 최소 이동시간을 구해보자.\n"
     ]
    },
    {
     "ename": "ValueError",
     "evalue": "Cannot embed the 'https://upload.acmicpc.net/b825fe2b-6da6-42c9-81e1-f6b77940a3dd/-/crop/1013x1006/455,37/-/preview/' image format",
     "output_type": "error",
     "traceback": [
      "\u001b[1;31m---------------------------------------------------------------------------\u001b[0m",
      "\u001b[1;31mValueError\u001b[0m                                Traceback (most recent call last)",
      "Cell \u001b[1;32mIn [56], line 1\u001b[0m\n\u001b[1;32m----> 1\u001b[0m \u001b[43m백준\u001b[49m\u001b[38;5;241;43m.\u001b[39;49m\u001b[43m문제보기\u001b[49m\u001b[43m(\u001b[49m\u001b[38;5;124;43m'\u001b[39;49m\u001b[38;5;124;43m22949\u001b[39;49m\u001b[38;5;124;43m'\u001b[39;49m\u001b[43m)\u001b[49m\n",
      "File \u001b[1;32mC:\\Project\\codingtest\\coding_test_module\\codingtest.py:105\u001b[0m, in \u001b[0;36mboj.문제보기\u001b[1;34m(self, problem)\u001b[0m\n\u001b[0;32m    103\u001b[0m img_src \u001b[38;5;241m=\u001b[39m item\u001b[38;5;241m.\u001b[39mfind(\u001b[38;5;124m'\u001b[39m\u001b[38;5;124mimg\u001b[39m\u001b[38;5;124m'\u001b[39m)[\u001b[38;5;124m'\u001b[39m\u001b[38;5;124msrc\u001b[39m\u001b[38;5;124m'\u001b[39m]\n\u001b[0;32m    104\u001b[0m \u001b[38;5;28;01mif\u001b[39;00m img_src\u001b[38;5;241m.\u001b[39mstartswith(\u001b[38;5;124m'\u001b[39m\u001b[38;5;124mhttps://\u001b[39m\u001b[38;5;124m'\u001b[39m):\n\u001b[1;32m--> 105\u001b[0m     display\u001b[38;5;241m.\u001b[39mdisplay(\u001b[43mdisplay\u001b[49m\u001b[38;5;241;43m.\u001b[39;49m\u001b[43mImage\u001b[49m\u001b[43m(\u001b[49m\u001b[43mimg_src\u001b[49m\u001b[43m)\u001b[49m)\n\u001b[0;32m    106\u001b[0m \u001b[38;5;28;01melse\u001b[39;00m:\n\u001b[0;32m    107\u001b[0m     display\u001b[38;5;241m.\u001b[39mdisplay(display\u001b[38;5;241m.\u001b[39mImage(\u001b[38;5;124m'\u001b[39m\u001b[38;5;124mhttps://www.acmicpc.net\u001b[39m\u001b[38;5;124m'\u001b[39m\u001b[38;5;241m+\u001b[39mimg_src))\n",
      "File \u001b[1;32m~\\AppData\\Local\\Programs\\Python\\Python39\\lib\\site-packages\\IPython\\core\\display.py:961\u001b[0m, in \u001b[0;36mImage.__init__\u001b[1;34m(self, data, url, filename, format, embed, width, height, retina, unconfined, metadata, alt)\u001b[0m\n\u001b[0;32m    958\u001b[0m \u001b[38;5;28mself\u001b[39m\u001b[38;5;241m.\u001b[39membed \u001b[38;5;241m=\u001b[39m embed \u001b[38;5;28;01mif\u001b[39;00m embed \u001b[38;5;129;01mis\u001b[39;00m \u001b[38;5;129;01mnot\u001b[39;00m \u001b[38;5;28;01mNone\u001b[39;00m \u001b[38;5;28;01melse\u001b[39;00m (url \u001b[38;5;129;01mis\u001b[39;00m \u001b[38;5;28;01mNone\u001b[39;00m)\n\u001b[0;32m    960\u001b[0m \u001b[38;5;28;01mif\u001b[39;00m \u001b[38;5;28mself\u001b[39m\u001b[38;5;241m.\u001b[39membed \u001b[38;5;129;01mand\u001b[39;00m \u001b[38;5;28mself\u001b[39m\u001b[38;5;241m.\u001b[39mformat \u001b[38;5;129;01mnot\u001b[39;00m \u001b[38;5;129;01min\u001b[39;00m \u001b[38;5;28mself\u001b[39m\u001b[38;5;241m.\u001b[39m_ACCEPTABLE_EMBEDDINGS:\n\u001b[1;32m--> 961\u001b[0m     \u001b[38;5;28;01mraise\u001b[39;00m \u001b[38;5;167;01mValueError\u001b[39;00m(\u001b[38;5;124m\"\u001b[39m\u001b[38;5;124mCannot embed the \u001b[39m\u001b[38;5;124m'\u001b[39m\u001b[38;5;132;01m%s\u001b[39;00m\u001b[38;5;124m'\u001b[39m\u001b[38;5;124m image format\u001b[39m\u001b[38;5;124m\"\u001b[39m \u001b[38;5;241m%\u001b[39m (\u001b[38;5;28mself\u001b[39m\u001b[38;5;241m.\u001b[39mformat))\n\u001b[0;32m    962\u001b[0m \u001b[38;5;28;01mif\u001b[39;00m \u001b[38;5;28mself\u001b[39m\u001b[38;5;241m.\u001b[39membed:\n\u001b[0;32m    963\u001b[0m     \u001b[38;5;28mself\u001b[39m\u001b[38;5;241m.\u001b[39m_mimetype \u001b[38;5;241m=\u001b[39m \u001b[38;5;28mself\u001b[39m\u001b[38;5;241m.\u001b[39m_MIMETYPES\u001b[38;5;241m.\u001b[39mget(\u001b[38;5;28mself\u001b[39m\u001b[38;5;241m.\u001b[39mformat)\n",
      "\u001b[1;31mValueError\u001b[0m: Cannot embed the 'https://upload.acmicpc.net/b825fe2b-6da6-42c9-81e1-f6b77940a3dd/-/crop/1013x1006/455,37/-/preview/' image format"
     ]
    }
   ],
   "source": [
    "백준.문제보기('22949')"
   ]
  },
  {
   "cell_type": "code",
   "execution_count": 54,
   "id": "d3ec46b9",
   "metadata": {
    "scrolled": false
   },
   "outputs": [
    {
     "name": "stdout",
     "output_type": "stream",
     "text": [
      "Overwriting ./boj/1926번_그림.py\n"
     ]
    }
   ],
   "source": [
    "%%writefile ./boj/1926번_그림.py\n",
    "# 소스코드를 작성하는 공간입니다. 코딩을 하기 위해서는 writefile 라인을 주석처리해주세요\n",
    "# 주피터노트북에서는 입력시 input()을 사용하고 제출시 sys.stdin.readline() 으로 변경하세요~성능차이남\n",
    "# 입력 부\n",
    "rows, cols = input().split()\n",
    "board = [];\n",
    "rows = int(rows)\n",
    "cols = int(cols)\n",
    "for row_x in range(rows):\n",
    "    board.append(input().split())\n",
    "\n",
    "board = [[int(board[x][y]) for y in range(cols)] for x in range(rows)]\n",
    "\n",
    "# 처리부\n",
    "# 방문플래그\n",
    "visited = [[False]* cols for _ in range(rows)]\n",
    "\n",
    "# 시계방향으로 검색\n",
    "dx = [0,1,0,-1]\n",
    "dy = [1,0,-1,0]\n",
    "\n",
    "jobQ = [];\n",
    "paint_cnt, paint_size = 0, 0\n",
    "\n",
    "# 2차원 배열의 전체를 탐색\n",
    "for row_x in range(rows):\n",
    "    for col_y in range(cols):\n",
    "        if(visited[row_x][col_y] or board[row_x][col_y] != 1): \n",
    "            continue\n",
    "        \n",
    "        \n",
    "        # 방문하지 않은 좌표를 입력하고 그림을 그린다.\n",
    "        # 이게 시작일때는 사이즈를 찾을 수 있다.\n",
    "        jobQ.append([row_x, col_y])\n",
    "        visited[row_x][col_y] = True\n",
    "        paint_cnt +=1\n",
    "        temp_size = 1\n",
    "            \n",
    "        while(len(jobQ)>0):\n",
    "            cursor = jobQ.pop()\n",
    "            for ax in range(4):\n",
    "                nx = cursor[0] + dx[ax]\n",
    "                ny = cursor[1] + dy[ax]\n",
    "                # 배열의 범위를 벗어나면 검색안함\n",
    "                if(nx < 0 or nx >= rows or ny < 0 or ny >= cols): \n",
    "                    continue\n",
    "                \n",
    "                #방문지역이거나 방문이 필요없으면 스킵\n",
    "                if(visited[nx][ny] or board[nx][ny] != 1): \n",
    "                    continue\n",
    "                    \n",
    "                # 방문 플래그를 남기고 미방문지역추가, 넓이 증가\n",
    "                visited[nx][ny] = True\n",
    "                jobQ.append([nx, ny])\n",
    "                temp_size+=1\n",
    "        \n",
    "        if temp_size > paint_size : paint_size = temp_size\n",
    "                \n",
    "        \n",
    "print(paint_cnt, paint_size) "
   ]
  },
  {
   "cell_type": "code",
   "execution_count": 115,
   "id": "93aca932",
   "metadata": {},
   "outputs": [],
   "source": [
    "from collections import deque\n",
    "\n",
    "default_size = 4\n",
    "input_size = 2\n",
    "\n",
    "#board = [[0 for col in range(default_size * input_size)] for row in range(default_size * input_size)]\n",
    "board = []\n",
    "board.append(['#','S','#','.','#','.','#','#'])\n",
    "board.append(['#','.','.','.','E','#','.','#'])\n",
    "board.append(['#','.','#','#','.','#','#','.'])\n",
    "board.append(['#','.','.','.','.','#','#','#'])\n",
    "board.append(['#','.','#','.','.','#','#','.'])\n",
    "board.append(['#','.','.','.','.','.','.','#'])\n",
    "board.append(['#','.','.','#','#','.','.','#'])\n",
    "board.append(['#','#','#','#','#','#','#','#'])\n",
    "\n",
    "visited = [[False]* default_size * input_size for _ in range(default_size * input_size)]\n",
    "\n",
    "jobQ = deque()\n",
    "# x, y, move_cnt\n",
    "jobQ.append([0, 1, 0])\n",
    "visited[0][1] = True\n",
    "\n",
    "dx = [0,1,0,-1]\n",
    "dy = [1,0,-1,0]\n",
    "\n",
    "# 한턴마다 이동하거나 회전을 기다릴 수 있다\n",
    "\n",
    "while(len(jobQ)>0):\n",
    "    cursor = jobQ.pop()\n",
    "    \n",
    "    start_x = int(cursor[0]/4) * 4\n",
    "    start_y = int(cursor[1]/4) * 4\n",
    "    end_x = start_x+4\n",
    "    end_y = start_y+4\n",
    "\n",
    "    for ax in range(4):\n",
    "        nx = cursor[0] + dx[ax]\n",
    "        ny = cursor[1] + dy[ax]\n",
    "        # 배열의 범위를 벗어나면 검색안함\n",
    "        if(nx < 0 or nx >= rows or ny < 0 or ny >= cols): \n",
    "            continue\n",
    "    \n",
    "    ## 움직인 케이스랑 \n",
    "\n",
    "    # 90도 회전\n",
    "    spin_board = []\n",
    "    for move_y in range(start_y, end_y):\n",
    "        item = []\n",
    "        for move_x in reversed(range(start_x, end_x)):\n",
    "            item.append(board[move_x][move_y])\n",
    "        if 'S' in item:\n",
    "            print(move_y, item.index('S'))\n",
    "        spin_board.append(item)\n",
    "\n",
    "    \n",
    "\n"
   ]
  },
  {
   "cell_type": "code",
   "execution_count": 125,
   "id": "58de0335",
   "metadata": {},
   "outputs": [
    {
     "name": "stdout",
     "output_type": "stream",
     "text": [
      "1 3\n",
      "['#', '#', '#', '#']\n",
      "['.', '.', '.', 'S']\n",
      "['.', '#', '.', '#']\n",
      "['.', '#', '.', '.']\n"
     ]
    }
   ],
   "source": [
    "default_size = 4\n",
    "input_size = 2\n",
    "\n",
    "#board = [[0 for col in range(default_size * input_size)] for row in range(default_size * input_size)]\n",
    "board = []\n",
    "board.append(['#','S','#','.','#','.','#','#'])\n",
    "board.append(['#','.','.','.','E','#','.','#'])\n",
    "board.append(['#','.','#','#','.','#','#','.'])\n",
    "board.append(['#','.','.','.','.','#','#','#'])\n",
    "board.append(['#','.','#','.','.','#','#','.'])\n",
    "board.append(['#','.','.','.','.','.','.','#'])\n",
    "board.append(['#','.','.','#','#','.','.','#'])\n",
    "board.append(['#','#','#','#','#','#','#','#'])\n",
    "\n",
    "visited = [[False]* default_size * input_size for _ in range(default_size * input_size)]\n",
    "\n",
    "jobQ = deque()\n",
    "jobQ.append([0, 1, 0])\n",
    "cursor = jobQ.pop()\n",
    "    \n",
    "start_x = int(cursor[0]/4) * 4\n",
    "start_y = int(cursor[1]/4) * 4\n",
    "end_x = start_x+4\n",
    "end_y = start_y+4\n",
    "\n",
    "# 앞뒤바꾸고 -3 절대값\n",
    "\n",
    "# 90도 회전\n",
    "spin_board = []\n",
    "for move_y in range(start_y, end_y):\n",
    "    item = []\n",
    "    for move_x in reversed(range(start_x, end_x)):\n",
    "        item.append(board[move_x][move_y])\n",
    "    if 'S' in item:\n",
    "        print(move_y, item.index('S'))\n",
    "    spin_board.append(item)\n",
    "\n",
    "for ff in spin_board:\n",
    "    print(ff)"
   ]
  },
  {
   "cell_type": "code",
   "execution_count": null,
   "id": "d075c8b2",
   "metadata": {},
   "outputs": [],
   "source": [
    "# 갈수있는 곳은 갈수 있는 곳으로 두고 회전시켜야겠네\n",
    "#0123\n",
    "#3210 매핑표만들기"
   ]
  },
  {
   "cell_type": "code",
   "execution_count": null,
   "id": "ee753844",
   "metadata": {},
   "outputs": [],
   "source": []
  }
 ],
 "metadata": {
  "kernelspec": {
   "display_name": "Python 3 (ipykernel)",
   "language": "python",
   "name": "python3"
  },
  "language_info": {
   "codemirror_mode": {
    "name": "ipython",
    "version": 3
   },
   "file_extension": ".py",
   "mimetype": "text/x-python",
   "name": "python",
   "nbconvert_exporter": "python",
   "pygments_lexer": "ipython3",
   "version": "3.9.13"
  }
 },
 "nbformat": 4,
 "nbformat_minor": 5
}
