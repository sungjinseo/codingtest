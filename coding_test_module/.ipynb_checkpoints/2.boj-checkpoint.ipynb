{
 "cells": [
  {
   "cell_type": "code",
   "execution_count": 2,
   "id": "63be67bc",
   "metadata": {},
   "outputs": [],
   "source": [
    "from codingtest import boj\n",
    "백준 = boj(['boj_id', 'boj_pw'])"
   ]
  },
  {
   "cell_type": "code",
   "execution_count": 3,
   "id": "d8a6fa7f",
   "metadata": {
    "scrolled": true
   },
   "outputs": [
    {
     "name": "stdout",
     "output_type": "stream",
     "text": [
      "+---------------------------------------------------------------------------------------------------------------------------+\n",
      "|                                                        레벨별문제 9                                                       |\n",
      "+------------+--------------------+----------------------------+------------+-------------------+---------------------------+\n",
      "| 문제번호_1 | 문제명_1           | 문제타입_1                 | 문제번호_2 | 문제명_2          | 문제타입_2                |\n",
      "+------------+--------------------+----------------------------+------------+-------------------+---------------------------+\n",
      "| 1012       | 유기농 배추        | 그래프 이, 그래프 탐, 너   | 1024       | 수열의 합         | 수학                      |\n",
      "| 1058       | 친구               | 브루트포스, 플로이드–, 그  | 1124       | 언더프라임        | 수학, 정수론, 소수 판정,  |\n",
      "| 1138       | 한 줄로 서기       | 구현                       | 1141       | 접두사            | 정렬, 문자열, 트리        |\n",
      "| 1182       | 부분수열의 합      | 백트래킹, 브루트포스       | 1198       | 삼각형으로 자르기 | 브루트포스, 기하학, 수학  |\n",
      "| 1206       | 사람의 수          | 브루트포스, 수학           | 1254       | 팰린드롬 만들기   | 브루트포스, 문자열        |\n",
      "| 1260       | DFS와 BFS          | 그래프 이, 그래프 탐, 너   | 1326       | 폴짝폴짝          | 너비 우선, 그래프 이, 그  |\n",
      "| 1406       | 에디터             | 자료 구조, 연결 리스, 스   | 1411       | 비슷한 단어       | 브루트포스, 문자열        |\n",
      "| 1421       | 나무꾼 이다솜      | 브루트포스, 구현           | 1455       | 뒤집기 II         | 그리디 알                 |\n",
      "| 1497       | 기타콘서트         | 비트마스킹, 브루트포스, 조 | 1500       | 최대 곱           | 수학                      |\n",
      "| 1503       | 세 수 고르기       | 브루트포스                 | 1535       | 안녕              | 브루트포스, 다이나믹 , 배 |\n",
      "| 1541       | 잃어버린 괄호      | 그리디 알, 수학, 파싱,     | 1564       | 팩토리얼5         | 수학, 정수론              |\n",
      "| 1654       | 랜선 자르기        | 이분 탐색, 매개 변수       | 1699       | 제곱수의 합       | 다이나믹 , 수학           |\n",
      "| 1706       | 크로스워드         | 구현, 파싱, 정렬, 문자열   | 1709       | 타일 위의 원      | 기하학, 구현, 피타고라스  |\n",
      "| 1780       | 종이의 개수        | 분할 정복, 재귀            | 1793       | 타일링            | 임의 정밀, 다이나믹       |\n",
      "| 1912       | 연속합             | 다이나믹                   | 1927       | 최소 힙           | 자료 구조, 우선순위       |\n",
      "| 1965       | 상자넣기           | 다이나믹                   | 1986       | 체스              | 구현                      |\n",
      "| 2004       | 조합 0의 개수      | 수학, 정수론               | 2063       | 철사 연결         | 그리디 알, 정렬           |\n",
      "| 2072       | 오목               | 구현, 시뮬레이션           | 2075       | N번째 큰 수       | 자료 구조, 우선순위 , 정  |\n",
      "| 2117       | 원형 댄스          | 구현, 수학                 | 2148       | Super 12          | 정렬                      |\n",
      "| 2189       | Magickology        | 구현                       | 2210       | 숫자판 점프       | 브루트포스, 깊이 우선, 그 |\n",
      "| 2232       | 지뢰               | 그리디 알, 정렬            | 2257       | 화학식량          | 자료 구조, 스택, 문자열   |\n",
      "| 2290       | LCD Test           | 구현, 문자열               | 2304       | 창고 다각형       | 브루트포스, 자료 구조, 스 |\n",
      "| 2371       | 파일 구별하기      | 브루트포스, 자료 구조, 해  | 2477       | 참외밭            | 기하학, 구현, 수학        |\n",
      "| 2502       | 떡 먹는 호랑이     | 브루트포스, 다이나믹 , 수  | 2509       | 쉬운 매췽         |                           |\n",
      "| 2553       | 마지막 팩토리얼 수 | 수학, 정수론               | 2630       | 색종이 만들기     | 분할 정복, 재귀           |\n",
      "+------------+--------------------+----------------------------+------------+-------------------+---------------------------+\n"
     ]
    }
   ],
   "source": [
    "백준.레벨별문제리스트('9','1')"
   ]
  },
  {
   "cell_type": "code",
   "execution_count": 4,
   "id": "f7947a2b",
   "metadata": {},
   "outputs": [
    {
     "name": "stdout",
     "output_type": "stream",
     "text": [
      "어떤 큰 도화지에 그림이 그려져 있을 때, 그 그림의 개수와, 그 그림 중 넓이가 가장 넓은 것의 넓이를 출력하여라. 단, 그림이라는 것은 1로 연결된 것을 한 그림이라고 정의하자. 가로나 세로로 연결된 것은 연결이 된 것이고 대각선으로 연결이 된 것은 떨어진 그림이다. 그림의 넓이란 그림에 포함된 1의 개수이다.\n",
      "첫째 줄에 도화지의 세로 크기 n(1 ≤ n ≤ 500)과 가로 크기 m(1 ≤ m ≤ 500)이 차례로 주어진다. 두 번째 줄부터 n+1 줄 까지 그림의 정보가 주어진다. (단 그림의 정보는 0과 1이 공백을 두고 주어지며, 0은 색칠이 안된 부분, 1은 색칠이 된 부분을 의미한다)\n",
      "첫째 줄에는 그림의 개수, 둘째 줄에는 그 중 가장 넓은 그림의 넓이를 출력하여라. 단, 그림이 하나도 없는 경우에는 가장 넓은 그림의 넓이는 0이다.\n",
      "\n",
      "\n",
      "+---------------------------------------------------+\n",
      "|                      예제입력                     |\n",
      "+------------+------------+------------+------------+\n",
      "| 예제입력_1 | 예제출력_1 | 예제입력_2 | 예제출력_2 |\n",
      "+------------+------------+------------+------------+\n",
      "| 6 5        | 4          | -          | -          |\n",
      "| 1 1 0 1 1  | 9          |            |            |\n",
      "| 0 1 1 0 0  |            |            |            |\n",
      "| 0 0 0 0 0  |            |            |            |\n",
      "| 1 0 1 1 1  |            |            |            |\n",
      "| 0 0 1 1 1  |            |            |            |\n",
      "| 0 0 1 1 1  |            |            |            |\n",
      "+------------+------------+------------+------------+\n"
     ]
    },
    {
     "data": {
      "application/javascript": [
       "(function (){\n",
       "    IPython.CodeCell.prototype._handle_set_next_input = function (payload) {\n",
       "        var data = {\n",
       "            cell: this,\n",
       "            text: payload.text,\n",
       "            replace: payload.replace,\n",
       "            clear_output: payload.clear_output,\n",
       "        execute: payload.execute\n",
       "        };\n",
       "        this.events.trigger('set_next_input.Notebook', data);\n",
       "    };\n",
       "\n",
       "    var that = IPython.notebook;\n",
       "    // Out with the old, in with the new\n",
       "    that.events.unbind(\"set_next_input\")\n",
       "    that.events.on('set_next_input.Notebook', function (event, data) {\n",
       "            if (data.replace) {\n",
       "                data.cell.set_text(data.text);\n",
       "                if (data.clear_output !== false) {\n",
       "                  // default (undefined) is true to preserve prior behavior\n",
       "                  data.cell.clear_output();\n",
       "                }\n",
       "            } else {\n",
       "                var index = that.find_cell_index(data.cell);\n",
       "                var new_cell = that.insert_cell_below('code',index);\n",
       "                new_cell.set_text(data.text);\n",
       "            }\n",
       "        \n",
       "        if (data.execute && data.execute === true) {\n",
       "        new_cell.execute();\n",
       "        } else {\n",
       "        that.dirty = true;\n",
       "        }\n",
       "    });\n",
       "})()"
      ],
      "text/plain": [
       "<IPython.core.display.Javascript object>"
      ]
     },
     "metadata": {},
     "output_type": "display_data"
    }
   ],
   "source": [
    "백준.문제보기('1926')"
   ]
  },
  {
   "cell_type": "code",
   "execution_count": 6,
   "id": "6ca22a2f",
   "metadata": {
    "scrolled": false
   },
   "outputs": [
    {
     "name": "stdout",
     "output_type": "stream",
     "text": [
      "Writing ./boj/1926번_그림.py\n"
     ]
    }
   ],
   "source": [
    "%%writefile ./boj/1926번_그림.py\n",
    "# 소스코드를 작성하는 공간입니다. 코딩을 하기 위해서는 writefile 라인을 주석처리해주세요\n",
    "# 주피터노트북에서는 입력시 input()을 사용하고 제출시 sys.stdin.readline() 으로 변경하세요~성능차이남\n"
   ]
  },
  {
   "cell_type": "code",
   "execution_count": null,
   "id": "98f20b8b",
   "metadata": {},
   "outputs": [],
   "source": [
    "\n",
    "#include <bits/stdc++.h>\n",
    "using namespace std;\n",
    "#define X first\n",
    "#define Y second // pair에서 first, second를 줄여서 쓰기 위해서 사용\n",
    "int board[502][502] =\n",
    "{{1,1,1,0,1,0,0,0,0,0},\n",
    " {},\n",
    " {},\n",
    " {},\n",
    " {},\n",
    " {},\n",
    " {0,0,0,0,0,0,0,0,0,0} }; // 1이 파란 칸, 0이 빨간 칸에 대응\n",
    "bool vis[502][502]; // 해당 칸을 방문했는지 여부를 저장\n",
    "int n = 7, m = 10; // n = 행의 수, m = 열의 수\n",
    "int dx[4] = {1,0,-1,0};\n",
    "int dy[4] = {0,1,0,-1}; // 상하좌우 네 방향을 의미\n",
    "int main(void){\n",
    "  ios::sync_with_stdio(0);\n",
    "  cin.tie(0);\n",
    "  queue<pair<int,int> > Q;\n",
    "  vis[0][0] = 1; // (0, 0)을 방문했다고 명시\n",
    "  Q.push({0,0}); // 큐에 시작점인 (0, 0)을 삽입.\n",
    "  while(!Q.empty()){\n",
    "    pair<int,int> cur = Q.front(); Q.pop();\n",
    "    cout << '(' << cur.X << \", \" << cur.Y << \") -> \";\n",
    "    for(int dir = 0; dir < 4; dir++){ // 상하좌우 칸을 살펴볼 것이다.\n",
    "      int nx = cur.X + dx[dir];\n",
    "      int ny = cur.Y + dy[dir]; // nx, ny에 dir에서 정한 방향의 인접한 칸의 좌표가 들어감\n",
    "      if(nx < 0 || nx >= n || ny < 0 || ny >= m) continue; // 범위 밖일 경우 넘어감\n",
    "      if(vis[nx][ny] || board[nx][ny] != 1) continue; // 이미 방문한 칸이거나 파란 칸이 아닐 경우\n",
    "      vis[nx][ny] = 1; // (nx, ny)를 방문했다고 명시\n",
    "      Q.push({nx,ny});\n",
    "    }\n",
    "  }\n",
    "}"
   ]
  },
  {
   "cell_type": "code",
   "execution_count": 39,
   "id": "cb4e845a",
   "metadata": {
    "scrolled": false
   },
   "outputs": [
    {
     "name": "stdout",
     "output_type": "stream",
     "text": [
      "[True, True, True, False, False, False, False]\n",
      "[True, False, False, False, False, False, False]\n",
      "[True, True, True, False, False, False, False]\n",
      "[True, True, False, False, False, False, False]\n",
      "[False, True, False, False, False, False, False]\n",
      "[False, False, False, False, False, False, False]\n",
      "[False, False, False, False, False, False, False]\n"
     ]
    }
   ],
   "source": [
    "board = [];\n",
    "board.append([1,1,1,0,1,0,0,0,0,0])\n",
    "board.append([1,0,0,0,1,0,0,0,0,0])\n",
    "board.append([1,1,1,0,1,0,0,0,0,0])\n",
    "board.append([1,1,0,0,1,0,0,0,0,0])\n",
    "board.append([0,1,0,0,0,0,0,0,0,0])\n",
    "board.append([0,0,0,0,0,0,0,0,0,0])\n",
    "board.append([0,0,0,0,0,0,0,0,0,0])\n",
    "\n",
    "visited = [[False]* m for _ in range(n)]\n",
    "\n",
    "# 시계방향으로 검색\n",
    "dx = [0,1,0,-1]\n",
    "dy = [1,0,-1,0]\n",
    "\n",
    "n = len(board)\n",
    "m = len(board)\n",
    "\n",
    "jobQ = [];\n",
    "#jobQ.append(x,y)\n",
    "jobQ.append([0,0])\n",
    "visited[0][0] = True\n",
    "while(len(jobQ)>0):\n",
    "    cursor = jobQ.pop()\n",
    "    for idx in range(4):\n",
    "        nx = cursor[0] + dx[idx]\n",
    "        ny = cursor[1] + dy[idx]\n",
    "        if(nx < 0 or nx >= n or ny < 0 or ny >= m): \n",
    "            continue\n",
    "        if(visited[nx][ny] == True or board[nx][ny] != 1): \n",
    "            continue\n",
    "        visited[nx][ny] = True\n",
    "        jobQ.append([nx, ny])\n",
    "        \n",
    "for i in visited:\n",
    "    print(i)"
   ]
  }
 ],
 "metadata": {
  "kernelspec": {
   "display_name": "Python 3 (ipykernel)",
   "language": "python",
   "name": "python3"
  },
  "language_info": {
   "codemirror_mode": {
    "name": "ipython",
    "version": 3
   },
   "file_extension": ".py",
   "mimetype": "text/x-python",
   "name": "python",
   "nbconvert_exporter": "python",
   "pygments_lexer": "ipython3",
   "version": "3.9.13"
  }
 },
 "nbformat": 4,
 "nbformat_minor": 5
}
