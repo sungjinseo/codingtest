{
 "cells": [
  {
   "cell_type": "markdown",
   "id": "c5ad364e",
   "metadata": {},
   "source": [
    "## 순열(permutations)과 조합(combinations)\n",
    "📌 순열과 조합의 정의\n",
    "  - 순열: 서로 다른 n개의 원소에서 r개를 중복없이 골라 순서대로 나열하는 경우의 수\n",
    "  - 조합: 서로 다른 n개의 원소에서 r개를 뽑는 경우의 수"
   ]
  },
  {
   "cell_type": "code",
   "execution_count": 26,
   "id": "472f2e80",
   "metadata": {},
   "outputs": [],
   "source": [
    "test_arr = ['A','B','C']"
   ]
  },
  {
   "cell_type": "code",
   "execution_count": 7,
   "id": "3e3ec3c5",
   "metadata": {},
   "outputs": [],
   "source": [
    "# 재구로 구현한 순열\n",
    "def permutation_recur(arr, r):\n",
    "    # 1.\n",
    "    arr = sorted(arr)\n",
    "    used = [0 for _ in range(len(arr))]\n",
    "\n",
    "    def generate(chosen, used):\n",
    "    # 2.\n",
    "        if len(chosen) == r:\n",
    "            print(chosen)\n",
    "            return\n",
    "    # 3.\n",
    "        for i in range(len(arr)):\n",
    "            if not used[i]:\n",
    "                chosen.append(arr[i])\n",
    "                used[i] = 1\n",
    "                generate(chosen, used)\n",
    "                used[i] = 0\n",
    "                chosen.pop()\n",
    "    generate([], used)"
   ]
  },
  {
   "cell_type": "code",
   "execution_count": 8,
   "id": "bc55f8ca",
   "metadata": {},
   "outputs": [
    {
     "name": "stdout",
     "output_type": "stream",
     "text": [
      "['A', 'B', 'C']\n",
      "['A', 'C', 'B']\n",
      "['B', 'A', 'C']\n",
      "['B', 'C', 'A']\n",
      "['C', 'A', 'B']\n",
      "['C', 'B', 'A']\n"
     ]
    }
   ],
   "source": [
    "result = permutation_recur(test_arr, 3)"
   ]
  },
  {
   "cell_type": "code",
   "execution_count": 10,
   "id": "408e51d5",
   "metadata": {},
   "outputs": [],
   "source": [
    "# 루프로 구현한 순열\n",
    "def permutation_iter(arr):\n",
    "    result = [arr[:]]\n",
    "    c = [0] * len(arr)\n",
    "    i = 0\n",
    "    while i < len(arr):\n",
    "        if c[i] < i:\n",
    "            if i % 2 == 0:\n",
    "                arr[0], arr[i] = arr[i], arr[0]\n",
    "            else:\n",
    "                arr[c[i]], arr[i] = arr[i], arr[c[i]]\n",
    "            result.append(arr[:])\n",
    "            c[i] += 1\n",
    "            i = 0\n",
    "        else:\n",
    "            c[i] = 0\n",
    "            i += 1\n",
    "    return result"
   ]
  },
  {
   "cell_type": "code",
   "execution_count": 13,
   "id": "987ad7fa",
   "metadata": {},
   "outputs": [
    {
     "data": {
      "text/plain": [
       "[['C', 'B', 'A'],\n",
       " ['B', 'C', 'A'],\n",
       " ['A', 'C', 'B'],\n",
       " ['C', 'A', 'B'],\n",
       " ['B', 'A', 'C'],\n",
       " ['A', 'B', 'C']]"
      ]
     },
     "execution_count": 13,
     "metadata": {},
     "output_type": "execute_result"
    }
   ],
   "source": [
    "result = permutation_iter(test_arr)\n",
    "result"
   ]
  },
  {
   "cell_type": "code",
   "execution_count": 22,
   "id": "3873c343",
   "metadata": {},
   "outputs": [],
   "source": [
    "# 제너레이터로 구현한 순열\n",
    "def permutation_yield(array, r):\n",
    "    for i in range(len(array)):\n",
    "        if r == 1:\n",
    "            yield [array[i]]\n",
    "        else:\n",
    "            for next in permutation_yield(array[:i]+array[i+1:], r-1):\n",
    "                yield [array[i]] + next"
   ]
  },
  {
   "cell_type": "code",
   "execution_count": 23,
   "id": "73f134c8",
   "metadata": {},
   "outputs": [
    {
     "name": "stdout",
     "output_type": "stream",
     "text": [
      "[['A', 'B', 'C'], ['A', 'C', 'B'], ['B', 'A', 'C'], ['B', 'C', 'A'], ['C', 'A', 'B'], ['C', 'B', 'A']]\n"
     ]
    }
   ],
   "source": [
    "result = permutation_yield(test_arr,3)\n",
    "print(list(result))"
   ]
  },
  {
   "cell_type": "code",
   "execution_count": 24,
   "id": "6be4fa64",
   "metadata": {},
   "outputs": [],
   "source": [
    "# 재귀를 이용한 조합\n",
    "def combination_recur(arr, r):\n",
    "    # 1.\n",
    "    arr = sorted(arr)\n",
    "    used = [0 for _ in range(len(arr))]\n",
    "\n",
    "    # 2.\n",
    "    def generate(chosen):\n",
    "        if len(chosen) == r:\n",
    "            print(chosen)\n",
    "            return\n",
    "\n",
    "        # 3.\n",
    "        start = arr.index(chosen[-1]) + 1 if chosen else 0\n",
    "        for nxt in range(start, len(arr)):\n",
    "            if used[nxt] == 0 and (nxt == 0 or arr[nxt-1] != arr[nxt] or used[nxt-1]):\n",
    "                chosen.append(arr[nxt])\n",
    "                used[nxt] = 1\n",
    "                generate(chosen)\n",
    "                chosen.pop()\n",
    "                used[nxt] = 0\n",
    "    generate([])"
   ]
  },
  {
   "cell_type": "code",
   "execution_count": 27,
   "id": "15ea78fb",
   "metadata": {},
   "outputs": [
    {
     "name": "stdout",
     "output_type": "stream",
     "text": [
      "['A', 'B', 'C']\n"
     ]
    }
   ],
   "source": [
    "result = combination_recur(test_arr, 3)"
   ]
  },
  {
   "cell_type": "code",
   "execution_count": 31,
   "id": "263a046c",
   "metadata": {},
   "outputs": [],
   "source": [
    "# 제너레이터를 이용한 조합\n",
    "def combination_yield(array, r):\n",
    "    for i in range(len(array)):\n",
    "        if r == 1: # 종료 조건\n",
    "            yield [array[i]]\n",
    "        else:\n",
    "            for next in combination_yield(array[i+1:], r-1):\n",
    "                yield [array[i]] + next"
   ]
  },
  {
   "cell_type": "code",
   "execution_count": 32,
   "id": "e5ff579a",
   "metadata": {},
   "outputs": [
    {
     "name": "stdout",
     "output_type": "stream",
     "text": [
      "[['A', 'B', 'C']]\n"
     ]
    }
   ],
   "source": [
    "result = combination_yield(test_arr, 3)\n",
    "print(list(result))"
   ]
  },
  {
   "cell_type": "code",
   "execution_count": 51,
   "id": "5c1cd69e",
   "metadata": {
    "scrolled": true
   },
   "outputs": [],
   "source": [
    "def combination(nums, rnum=0):\n",
    "    answer_list = []\n",
    "\n",
    "    def nCr(n, r):\n",
    "        if r == len(nums):\n",
    "            temp = [i for i in n]\n",
    "            answer_list.append(temp)\n",
    "            return\n",
    "        n.append(nums[r])\n",
    "        nCr(n, r + 1)\n",
    "        n.pop()\n",
    "        nCr(n, r + 1)\n",
    "\n",
    "    nCr([], rnum)\n",
    "    return answer_list"
   ]
  },
  {
   "cell_type": "code",
   "execution_count": 53,
   "id": "60bf1b17",
   "metadata": {},
   "outputs": [
    {
     "name": "stdout",
     "output_type": "stream",
     "text": [
      "[[3, 4, 5], [3, 4], [3, 5], [3], [4, 5], [4], [5], []]\n"
     ]
    }
   ],
   "source": [
    "result = combination([1, 2, 3, 4, 5],2)\n",
    "print(result)"
   ]
  },
  {
   "cell_type": "code",
   "execution_count": 56,
   "id": "6411986d",
   "metadata": {},
   "outputs": [],
   "source": [
    "def permutation(input_list, rnum=0):\n",
    "    used = [0]*len(input_list)\n",
    "    result_list = []\n",
    "\n",
    "    def nPr(n, r):\n",
    "        if r == len(input_list):\n",
    "            temp = [i for i in n]\n",
    "            result_list.append(temp)\n",
    "            return\n",
    "        for i in range(len(input_list)):\n",
    "            if not used[i]:\n",
    "                used[i] = 1\n",
    "                n.append(input_list[i])\n",
    "                nPr(n, r+1)\n",
    "                n.pop()\n",
    "                used[i] = 0\n",
    "\n",
    "    nPr([], rnum)\n",
    "    return result_list"
   ]
  },
  {
   "cell_type": "code",
   "execution_count": 62,
   "id": "073c8394",
   "metadata": {},
   "outputs": [
    {
     "data": {
      "text/plain": [
       "[[1], [2], [3], [4], [5]]"
      ]
     },
     "execution_count": 62,
     "metadata": {},
     "output_type": "execute_result"
    }
   ],
   "source": [
    "result = permutation([1,2,3,4,5], 4)\n",
    "result"
   ]
  }
 ],
 "metadata": {
  "kernelspec": {
   "display_name": "Python 3 (ipykernel)",
   "language": "python",
   "name": "python3"
  },
  "language_info": {
   "codemirror_mode": {
    "name": "ipython",
    "version": 3
   },
   "file_extension": ".py",
   "mimetype": "text/x-python",
   "name": "python",
   "nbconvert_exporter": "python",
   "pygments_lexer": "ipython3",
   "version": "3.9.13"
  }
 },
 "nbformat": 4,
 "nbformat_minor": 5
}
