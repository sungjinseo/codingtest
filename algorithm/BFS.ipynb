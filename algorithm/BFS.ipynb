{
 "cells": [
  {
   "cell_type": "markdown",
   "id": "ed468f20",
   "metadata": {},
   "source": [
    "너비 우선 탐색(BFS, Breadth-First Search)\n",
    "너비 우선 탐색이란\n",
    "루트 노드(혹은 다른 임의의 노드)에서 시작해서 인접한 노드를 먼저 탐색하는 방법\n",
    "\n",
    "시작 정점으로부터 가까운 정점을 먼저 방문하고 멀리 떨어져 있는 정점을 나중에 방문하는 순회 방법이다.\n",
    "즉, 깊게(deep) 탐색하기 전에 넓게(wide) 탐색하는 것이다.\n",
    "사용하는 경우: 두 노드 사이의 최단 경로 혹은 임의의 경로를 찾고 싶을 때 이 방법을 선택한다.\n",
    "Ex) 지구상에 존재하는 모든 친구 관계를 그래프로 표현한 후 Ash와 Vanessa 사이에 존재하는 경로를 찾는 경우\n",
    "깊이 우선 탐색의 경우 - 모든 친구 관계를 다 살펴봐야 할지도 모른다.\n",
    "너비 우선 탐색의 경우 - Ash와 가까운 관계부터 탐색\n",
    "너비 우선 탐색(BFS)이 깊이 우선 탐색(DFS)보다 좀 더 복잡하다.\n",
    "너비 우선 탐색(BFS)의 특징\n",
    "직관적이지 않은 면이 있다.\n",
    "BFS는 시작 노드에서 시작해서 거리에 따라 단계별로 탐색한다고 볼 수 있다.\n",
    "BFS는 재귀적으로 동작하지 않는다.\n",
    "이 알고리즘을 구현할 때 가장 큰 차이점은, 그래프 탐색의 경우 어떤 노드를 방문했었는지 여부를 반드시 검사 해야 한다는 것이다.\n",
    "이를 검사하지 않을 경우 무한루프에 빠질 위험이 있다.\n",
    "BFS는 방문한 노드들을 차례로 저장한 후 꺼낼 수 있는 자료 구조인 큐(Queue)를 사용한다.\n",
    "즉, 선입선출(FIFO) 원칙으로 탐색\n",
    "일반적으로 큐를 이용해서 반복적 형태로 구현하는 것이 가장 잘 동작한다.\n",
    "‘Prim’, ‘Dijkstra’ 알고리즘과 유사하다.\n",
    "너비 우선 탐색(BFS)의 과정\n",
    "깊이가 1인 모든 노드를 방문하고 나서 그 다음에는 깊이가 2인 모든 노드를, 그 다음에는 깊이가 3인 모든 노드를 방문하는 식으로 계속 방문하다가 더 이상 방문할 곳이 없으면 탐색을 마친다.\n",
    "https://gmlwjd9405.github.io/2018/08/15/algorithm-bfs.html"
   ]
  },
  {
   "cell_type": "code",
   "execution_count": null,
   "id": "65e37245",
   "metadata": {},
   "outputs": [],
   "source": []
  }
 ],
 "metadata": {
  "kernelspec": {
   "display_name": "Python 3 (ipykernel)",
   "language": "python",
   "name": "python3"
  },
  "language_info": {
   "codemirror_mode": {
    "name": "ipython",
    "version": 3
   },
   "file_extension": ".py",
   "mimetype": "text/x-python",
   "name": "python",
   "nbconvert_exporter": "python",
   "pygments_lexer": "ipython3",
   "version": "3.9.13"
  }
 },
 "nbformat": 4,
 "nbformat_minor": 5
}
