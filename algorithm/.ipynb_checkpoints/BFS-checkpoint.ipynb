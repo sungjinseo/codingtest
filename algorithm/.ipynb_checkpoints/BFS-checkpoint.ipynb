{
 "cells": [
  {
   "cell_type": "markdown",
   "id": "c88b36e5",
   "metadata": {},
   "source": [
    "# 너비 우선 탐색(BFS, Breadth-First Search)\n",
    "\n",
    "## 너비 우선 탐색이란\n",
    "\n",
    "루트 노드(혹은 다른 임의의 노드)에서 시작해서 인접한 노드를 먼저 탐색하는 방법\n",
    "\n",
    "* 시작 정점으로부터 가까운 정점을 먼저 방문하고 멀리 떨어져 있는 정점을 나중에 방문하는 순회 방법이다.\n",
    "* 즉, 깊게(deep) 탐색하기 전에 넓게(wide) 탐색하는 것이다.\n",
    "* 사용하는 경우: 두 노드 사이의 최단 경로 혹은 임의의 경로를 찾고 싶을 때 이 방법을 선택한다.\n",
    "  * Ex) 지구상에 존재하는 모든 친구 관계를 그래프로 표현한 후 Ash와 Vanessa 사이에 존재하는 경로를 찾는 경우\n",
    "  * 깊이 우선 탐색의 경우 - 모든 친구 관계를 다 살펴봐야 할지도 모른다.\n",
    "  * 너비 우선 탐색의 경우 - Ash와 가까운 관계부터 탐색\n",
    "* 너비 우선 탐색(BFS)이 깊이 우선 탐색(DFS)보다 좀 더 복잡하다.\n",
    "\n",
    "## 너비 우선 탐색(BFS)의 특징\n",
    "\n",
    "* 직관적이지 않은 면이 있다.\n",
    "* BFS는 시작 노드에서 시작해서 거리에 따라 단계별로 탐색한다고 볼 수 있다.\n",
    "* BFS는 재귀적으로 동작하지 않는다.\n",
    "* 이 알고리즘을 구현할 때 가장 큰 차이점은, 그래프 탐색의 경우 어떤 노드를 방문했었는지 여부를 반드시 검사 해야 한다는 것이다.\n",
    "  * 이를 검사하지 않을 경우 무한루프에 빠질 위험이 있다.\n",
    "* BFS는 방문한 노드들을 차례로 저장한 후 꺼낼 수 있는 자료 구조인 큐(Queue)를 사용한다.\n",
    "  * 즉, 선입선출(FIFO) 원칙으로 탐색\n",
    "  * 일반적으로 큐를 이용해서 반복적 형태로 구현하는 것이 가장 잘 동작한다.\n",
    "* ‘Prim’, ‘Dijkstra’ 알고리즘과 유사하다.\n",
    "\n",
    "## 너비 우선 탐색(BFS)의 과정\n",
    "\n",
    "* 깊이가 1인 모든 노드를 방문하고 나서 그 다음에는 깊이가 2인 모든 노드를, 그 다음에는 깊이가 3인 모든 노드를 방문하는 식으로 계속 방문하다가 더 이상 방문할 곳이 없으면 탐색을 마친다.\n",
    "\n",
    "1. a 노드(시작 노드)를 방문한다. (방문한 노드 체크)\n",
    "   * 큐에 방문된 노드를 삽입(enqueue)한다.\n",
    "   * 초기 상태의 큐에는 시작 노드만이 저장\n",
    "   * 즉, a 노드의 이웃 노드를 모두 방문한 다음에 이웃의 이웃들을 방문한다.\n",
    "2. 큐에서 꺼낸 노드와 인접한 노드들을 모두 차례로 방문한다.\n",
    "   * 큐에서 꺼낸 노드를 방문한다.\n",
    "   * 큐에서 커낸 노드와 인접한 노드들을 모두 방문한다.\n",
    "   * 인접한 노드가 없다면 큐의 앞에서 노드를 꺼낸다(dequeue).\n",
    "   * 큐에 방문된 노드를 삽입(enqueue)한다.\n",
    "3. 큐가 소진될 때까지 계속한다.\n",
    "\n",
    "![bfs](https://raw.githubusercontent.com/sungjinseo/image-repository/master/stduy/bfs-example.png)"
   ]
  },
  {
   "cell_type": "code",
   "execution_count": null,
   "id": "44aef408",
   "metadata": {},
   "outputs": [],
   "source": [
    "void search(Node root) {\n",
    "  Queue queue = new Queue();\n",
    "  root.marked = true; // (방문한 노드 체크)\n",
    "  queue.enqueue(root); // 1-1. 큐의 끝에 추가\n",
    "\n",
    "  // 3. 큐가 소진될 때까지 계속한다.\n",
    "  while (!queue.isEmpty()) {\n",
    "    Node r = queue.dequeue(); // 큐의 앞에서 노드 추출\n",
    "    visit(r); // 2-1. 큐에서 추출한 노드 방문\n",
    "    // 2-2. 큐에서 꺼낸 노드와 인접한 노드들을 모두 차례로 방문한다.\n",
    "    foreach (Node n in r.adjacent) {\n",
    "      if (n.marked == false) {\n",
    "        n.marked = true; // (방문한 노드 체크)\n",
    "        queue.enqueue(n); // 2-3. 큐의 끝에 추가\n",
    "      }\n",
    "    }\n",
    "  }\n",
    "}"
   ]
  },
  {
   "cell_type": "markdown",
   "id": "5c0edec1",
   "metadata": {},
   "source": [
    "## 너비 우선 탐색(BFS)의 시간 복잡도\n",
    "\n",
    "* 인접 리스트로 표현된 그래프: O(N+E)\n",
    "* 인접 행렬로 표현된 그래프: O(N^2)\n",
    "* 깊이 우선 탐색(DFS)과 마찬가지로 그래프 내에 적은 숫자의 간선만을 가지는 희소 그래프(Sparse Graph) 의 경우 인접 행렬보다 인접 리스트를 사용하는 것이 유리하다."
   ]
  }
 ],
 "metadata": {
  "kernelspec": {
   "display_name": "Python 3 (ipykernel)",
   "language": "python",
   "name": "python3"
  },
  "language_info": {
   "codemirror_mode": {
    "name": "ipython",
    "version": 3
   },
   "file_extension": ".py",
   "mimetype": "text/x-python",
   "name": "python",
   "nbconvert_exporter": "python",
   "pygments_lexer": "ipython3",
   "version": "3.9.13"
  }
 },
 "nbformat": 4,
 "nbformat_minor": 5
}
